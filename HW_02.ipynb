{
  "nbformat": 4,
  "nbformat_minor": 0,
  "metadata": {
    "colab": {
      "provenance": [],
      "collapsed_sections": []
    },
    "kernelspec": {
      "name": "python3",
      "display_name": "Python 3"
    },
    "language_info": {
      "name": "python"
    }
  },
  "cells": [
    {
      "cell_type": "code",
      "execution_count": 1,
      "metadata": {
        "id": "6V1-DC2nCEj9"
      },
      "outputs": [],
      "source": [
        "# ## More Problems to Try :: ( Counts towards final evaluation ) \n",
        "# 1. Write a program to find sum all Natural numbers from 1 to N where you have to take N as input from user\n",
        "# 2. Write a program to find simple interest on a principal amount A at interest rate of R for time period T. Take A, R and T as input from the user."
      ]
    },
    {
      "cell_type": "code",
      "source": [
        "n = int(input())"
      ],
      "metadata": {
        "colab": {
          "base_uri": "https://localhost:8080/"
        },
        "id": "jBnvt2j2YGdf",
        "outputId": "c2230dd9-55fe-441c-810b-9de0057c4a68"
      },
      "execution_count": 6,
      "outputs": [
        {
          "name": "stdout",
          "output_type": "stream",
          "text": [
            "3\n"
          ]
        }
      ]
    },
    {
      "cell_type": "code",
      "source": [
        "for i in range(n+1):\n",
        "  i += i\n",
        "print (i)"
      ],
      "metadata": {
        "id": "9xElULm9YSRN"
      },
      "execution_count": 9,
      "outputs": []
    },
    {
      "cell_type": "code",
      "source": [
        "A = float(input())\n",
        "R = float(input())\n",
        "T = float(input())"
      ],
      "metadata": {
        "colab": {
          "base_uri": "https://localhost:8080/"
        },
        "id": "-gUsUNxIBDRK",
        "outputId": "93c9a982-107a-4a6a-9335-dc0c13edcf29"
      },
      "execution_count": 11,
      "outputs": [
        {
          "name": "stdout",
          "output_type": "stream",
          "text": [
            "2\n",
            "2\n",
            "2\n"
          ]
        }
      ]
    },
    {
      "cell_type": "code",
      "source": [
        "SI = A*R*T/100\n",
        "print (SI)"
      ],
      "metadata": {
        "colab": {
          "base_uri": "https://localhost:8080/"
        },
        "id": "6fmnfMBXBJce",
        "outputId": "56278ba1-ceaf-46a7-d32a-26fe086d694f"
      },
      "execution_count": 14,
      "outputs": [
        {
          "output_type": "stream",
          "name": "stdout",
          "text": [
            "0.08\n"
          ]
        }
      ]
    },
    {
      "cell_type": "code",
      "source": [
        "range (1,n+1)"
      ],
      "metadata": {
        "colab": {
          "base_uri": "https://localhost:8080/"
        },
        "id": "X-M78PP4B-5w",
        "outputId": "34d37fbf-7cc5-4880-a738-5d1f396f5232"
      },
      "execution_count": 15,
      "outputs": [
        {
          "output_type": "execute_result",
          "data": {
            "text/plain": [
              "range(1, 4)"
            ]
          },
          "metadata": {},
          "execution_count": 15
        }
      ]
    },
    {
      "cell_type": "code",
      "source": [
        "for i in range(1, n+1):\n",
        "  print (i , sep='')"
      ],
      "metadata": {
        "colab": {
          "base_uri": "https://localhost:8080/"
        },
        "id": "5EFq85EhInNv",
        "outputId": "a00ad7b1-4b80-4c84-9cec-d2f7caa28915"
      },
      "execution_count": 17,
      "outputs": [
        {
          "output_type": "stream",
          "name": "stdout",
          "text": [
            "1\n",
            "2\n",
            "3\n"
          ]
        }
      ]
    },
    {
      "cell_type": "code",
      "source": [
        "list = ['lakshya', 3, A, 1.0]"
      ],
      "metadata": {
        "id": "eiPzV3RuIuk9"
      },
      "execution_count": 25,
      "outputs": []
    },
    {
      "cell_type": "code",
      "source": [
        "list[2]"
      ],
      "metadata": {
        "colab": {
          "base_uri": "https://localhost:8080/"
        },
        "id": "kATY6oPzJJ8q",
        "outputId": "145b177f-1e5d-44c3-eef9-75238a560c35"
      },
      "execution_count": 26,
      "outputs": [
        {
          "output_type": "execute_result",
          "data": {
            "text/plain": [
              "2.0"
            ]
          },
          "metadata": {},
          "execution_count": 26
        }
      ]
    },
    {
      "cell_type": "code",
      "source": [
        "list.count(3)"
      ],
      "metadata": {
        "colab": {
          "base_uri": "https://localhost:8080/"
        },
        "id": "rasFoXhYQW9W",
        "outputId": "02630dd5-5d94-4458-c8cc-4e2d4ea3a7fd"
      },
      "execution_count": 27,
      "outputs": [
        {
          "output_type": "execute_result",
          "data": {
            "text/plain": [
              "1"
            ]
          },
          "metadata": {},
          "execution_count": 27
        }
      ]
    },
    {
      "cell_type": "code",
      "source": [
        "list.clear()"
      ],
      "metadata": {
        "id": "v9-DQ9enShEp"
      },
      "execution_count": 28,
      "outputs": []
    },
    {
      "cell_type": "code",
      "source": [
        "list"
      ],
      "metadata": {
        "colab": {
          "base_uri": "https://localhost:8080/"
        },
        "id": "OkEI1TOlUeZ5",
        "outputId": "b6a9ab7a-f690-46a5-f50e-289daa383486"
      },
      "execution_count": 29,
      "outputs": [
        {
          "output_type": "execute_result",
          "data": {
            "text/plain": [
              "[]"
            ]
          },
          "metadata": {},
          "execution_count": 29
        }
      ]
    },
    {
      "cell_type": "code",
      "source": [
        "days = ['mo','tu','we','th','fr','sa','su']\n",
        "for i in range (0,7):\n",
        "  print(days[i])"
      ],
      "metadata": {
        "colab": {
          "base_uri": "https://localhost:8080/"
        },
        "id": "C614pGSDUgkv",
        "outputId": "c11297b3-18cb-4874-da61-bb874c5fced4"
      },
      "execution_count": 30,
      "outputs": [
        {
          "output_type": "stream",
          "name": "stdout",
          "text": [
            "mo\n",
            "tu\n",
            "we\n",
            "th\n",
            "fr\n",
            "sa\n",
            "su\n"
          ]
        }
      ]
    },
    {
      "cell_type": "code",
      "source": [
        "for day in days:\n",
        "  print(day)"
      ],
      "metadata": {
        "colab": {
          "base_uri": "https://localhost:8080/"
        },
        "id": "Xsq3gNGPg_0p",
        "outputId": "ac8c8449-95d9-4c03-c20f-ad36549887f7"
      },
      "execution_count": 31,
      "outputs": [
        {
          "output_type": "stream",
          "name": "stdout",
          "text": [
            "mo\n",
            "tu\n",
            "we\n",
            "th\n",
            "fr\n",
            "sa\n",
            "su\n"
          ]
        }
      ]
    },
    {
      "cell_type": "code",
      "source": [
        "for i in range (1,101):\n",
        "  if i % 3 == 0 and i % 5 == 0:\n",
        "    print ('fizzbuzz')\n",
        "  elif i % 3 == 0:\n",
        "    print ('fizz')\n",
        "  elif i % 5 == 0:\n",
        "    print ('buzz')\n",
        "  else:\n",
        "    print (i)\n",
        "  "
      ],
      "metadata": {
        "colab": {
          "base_uri": "https://localhost:8080/"
        },
        "id": "b5tAVWlHhD3z",
        "outputId": "c7704fa9-80e8-4c86-de3f-470e81440b8d"
      },
      "execution_count": 35,
      "outputs": [
        {
          "output_type": "stream",
          "name": "stdout",
          "text": [
            "1\n",
            "2\n",
            "fizz\n",
            "4\n",
            "buzz\n",
            "fizz\n",
            "7\n",
            "8\n",
            "fizz\n",
            "buzz\n",
            "11\n",
            "fizz\n",
            "13\n",
            "14\n",
            "fizzbuzz\n",
            "16\n",
            "17\n",
            "fizz\n",
            "19\n",
            "buzz\n",
            "fizz\n",
            "22\n",
            "23\n",
            "fizz\n",
            "buzz\n",
            "26\n",
            "fizz\n",
            "28\n",
            "29\n",
            "fizzbuzz\n",
            "31\n",
            "32\n",
            "fizz\n",
            "34\n",
            "buzz\n",
            "fizz\n",
            "37\n",
            "38\n",
            "fizz\n",
            "buzz\n",
            "41\n",
            "fizz\n",
            "43\n",
            "44\n",
            "fizzbuzz\n",
            "46\n",
            "47\n",
            "fizz\n",
            "49\n",
            "buzz\n",
            "fizz\n",
            "52\n",
            "53\n",
            "fizz\n",
            "buzz\n",
            "56\n",
            "fizz\n",
            "58\n",
            "59\n",
            "fizzbuzz\n",
            "61\n",
            "62\n",
            "fizz\n",
            "64\n",
            "buzz\n",
            "fizz\n",
            "67\n",
            "68\n",
            "fizz\n",
            "buzz\n",
            "71\n",
            "fizz\n",
            "73\n",
            "74\n",
            "fizzbuzz\n",
            "76\n",
            "77\n",
            "fizz\n",
            "79\n",
            "buzz\n",
            "fizz\n",
            "82\n",
            "83\n",
            "fizz\n",
            "buzz\n",
            "86\n",
            "fizz\n",
            "88\n",
            "89\n",
            "fizzbuzz\n",
            "91\n",
            "92\n",
            "fizz\n",
            "94\n",
            "buzz\n",
            "fizz\n",
            "97\n",
            "98\n",
            "fizz\n",
            "buzz\n"
          ]
        }
      ]
    },
    {
      "cell_type": "markdown",
      "source": [
        "## Day 2 HW\n",
        "# micro project\n",
        "'''\n",
        "Design a food menu app where a user can select an item out of multiple \n",
        "choices shown to the user. The item selected by the user is shown to the user as the output.\n",
        "'''\n"
      ],
      "metadata": {
        "id": "B0Aw2Zl6xnSZ"
      }
    },
    {
      "cell_type": "code",
      "source": [
        "food_menu = ['0 - pav_bhaji - Rs60', '1 - vada_pav - Rs10', '2 - kanda_poha - Rs10']\n",
        "print (food_menu)\n",
        "print ('select food item')\n",
        "x = int(input())\n",
        "food_menu[x]"
      ],
      "metadata": {
        "colab": {
          "base_uri": "https://localhost:8080/",
          "height": 89
        },
        "id": "b48OwWvKvUDD",
        "outputId": "abe3df03-ec20-4714-da79-08379bc1e450"
      },
      "execution_count": 3,
      "outputs": [
        {
          "name": "stdout",
          "output_type": "stream",
          "text": [
            "['0 - pav_bhaji - Rs60', '1 - vada_pav - Rs10', '2 - kanda_poha - Rs10']\n",
            "select food item\n",
            "2\n"
          ]
        },
        {
          "output_type": "execute_result",
          "data": {
            "text/plain": [
              "'2 - kanda_poha - Rs10'"
            ],
            "application/vnd.google.colaboratory.intrinsic+json": {
              "type": "string"
            }
          },
          "metadata": {},
          "execution_count": 3
        }
      ]
    },
    {
      "cell_type": "code",
      "source": [],
      "metadata": {
        "id": "67ReMwROw0dR"
      },
      "execution_count": null,
      "outputs": []
    }
  ]
}