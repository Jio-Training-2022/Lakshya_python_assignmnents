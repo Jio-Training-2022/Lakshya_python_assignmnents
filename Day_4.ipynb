{
 "cells": [
  {
   "cell_type": "code",
   "execution_count": 15,
   "id": "210358c8",
   "metadata": {},
   "outputs": [
    {
     "name": "stdout",
     "output_type": "stream",
     "text": [
      "enter any number: 8\n",
      "[1, 2, 3, 4, 5, 6, 7]\n",
      "[1, 3, 5, 7]\n",
      "[2, 4, 6]\n"
     ]
    }
   ],
   "source": [
    "'''Given an array nums ( read as input by the user), separate the odd and even numbers from the array and \n",
    "print them on separate lines.'''\n",
    "\n",
    "nums = int( input ('enter any number: '))\n",
    "\n",
    "num_array = list(range(1,nums))\n",
    "even=[]\n",
    "odd=[]\n",
    "\n",
    "for i in range (1, nums):\n",
    "    if i % 2 == 0:\n",
    "        even.append(i)\n",
    "    else:\n",
    "        odd.append(i)\n",
    "        \n",
    "print(num_array)\n",
    "print(odd)\n",
    "print(even)    "
   ]
  },
  {
   "cell_type": "code",
   "execution_count": 34,
   "id": "191a6666",
   "metadata": {},
   "outputs": [
    {
     "name": "stdout",
     "output_type": "stream",
     "text": [
      "Enter your number: 78\n",
      "15\n"
     ]
    }
   ],
   "source": [
    "'''Given a number A ( read as input ), find the sum of its digits.'''\n",
    "\n",
    "A = input ('Enter your number: ')\n",
    "number = []\n",
    "\n",
    "for i in A:\n",
    "    number.append(i)\n",
    "\n",
    "a=0    \n",
    "    \n",
    "for i in number:\n",
    "    a += int(i)\n",
    "\n",
    "print(a)"
   ]
  },
  {
   "cell_type": "code",
   "execution_count": 27,
   "id": "5cb73865",
   "metadata": {},
   "outputs": [
    {
     "name": "stdout",
     "output_type": "stream",
     "text": [
      "Enter Loan amount: 5\n",
      "Enter interet rate: 6\n",
      "Enter tenure in months: 7\n",
      "30.625\n"
     ]
    }
   ],
   "source": [
    "# More Problems to try\n",
    "# 1. Loan EMI Calculator\n",
    "\n",
    "'''The mathematical formula to calculate EMI is: EMI = P × r × (1 + r)n/((1 + r)n - 1) \n",
    "where P= Loan amount, r= interest rate, n=tenure in number of months.'''\n",
    "\n",
    "P = float(input('Enter Loan amount: '))\n",
    "r = float(input('Enter interet rate: '))\n",
    "N = float(input('Enter tenure in months: '))\n",
    "\n",
    "EMI = P*r*((1+r)*N)/((1+r)*N-1)\n",
    "print(EMI)"
   ]
  },
  {
   "cell_type": "code",
   "execution_count": 54,
   "id": "d55d58f8",
   "metadata": {},
   "outputs": [
    {
     "name": "stdout",
     "output_type": "stream",
     "text": [
      "Enter bank account number: 123456\n",
      "To add money to the account type 'add' \n",
      " To withdraw money from the account type 'withdraw' \n",
      " To display balance of the account type 'balance': \n",
      "balance\n",
      "Your bank account balance is:  10000\n"
     ]
    }
   ],
   "source": [
    "'''Build a banking system which has the following functionalities :: \n",
    "2.1 Add account for a new user \n",
    "2.2 Add money to the account \n",
    "2.3 Withdraw money from the account \n",
    "2.4 Display balance for a particular user'''\n",
    "\n",
    "bank_account_details = {123456 : 10000, 112233: 20000, 223311: 30000}\n",
    "a_no = int(input('Enter bank account number: '))\n",
    "if a_no not in bank_account_details and a_no !=0:\n",
    "    ques = (input('Do you want to create an account with the us y/n: '))\n",
    "    if ques == 'y':\n",
    "        account_no = int(input('Enter again the bank account number you wish to create: '))\n",
    "        mon = float(input('Enter the amount of money you wish to deposit: '))\n",
    "        bank_account_details[account_no] = mon\n",
    "        print ('Your account is successfully created.')\n",
    "    else:\n",
    "        print('thank you for banking with us.')\n",
    "elif a_no in bank_account_details and a_no !=0:\n",
    "    mo = input(\"To add money to the account type 'add' \\n To withdraw money from the account type 'withdraw' \\n To display balance of the account type 'balance': \\n\")\n",
    "    if mo == 'add':\n",
    "        add = float(input('Enter the money you want to enter to your account: '))\n",
    "        bank_account_details[a_no] = float(bank_account_details[a_no]) + add\n",
    "        print ('Your bank account balance is: ', bank_account_details[a_no])\n",
    "    if mo == 'withdraw':\n",
    "        withdraw = float(input('Enter the money you want to withdraw from your account: '))\n",
    "        if withdraw < bank_account_details[a_no]:\n",
    "            bank_account_details[a_no] = float(bank_account_details[a_no]) - withdraw\n",
    "            print ('Your bank account balance is: ', bank_account_details[a_no])\n",
    "        else :\n",
    "            print ('Not enough balance')\n",
    "            print ('Your bank account balance is: ', bank_account_details[a_no])\n",
    "    if mo == 'balance':\n",
    "        print ('Your bank account balance is: ', bank_account_details[a_no])\n",
    "    else:\n",
    "        print ('')"
   ]
  },
  {
   "cell_type": "code",
   "execution_count": 29,
   "id": "e1798d97",
   "metadata": {},
   "outputs": [
    {
     "data": {
      "text/plain": [
       "[34.0]"
      ]
     },
     "execution_count": 29,
     "metadata": {},
     "output_type": "execute_result"
    }
   ],
   "source": [
    "'''Build a simple school which allows for :: \n",
    "3.1 Adding a new student to a class with a Name & (unique) ID \n",
    "3.2 Showing total number of students in a class \n",
    "3.3 Removing the name of a student from a class \n",
    "3.4 Promoting a student to the next grade'''\n",
    "\n"
   ]
  },
  {
   "cell_type": "code",
   "execution_count": null,
   "id": "452db7bf",
   "metadata": {},
   "outputs": [],
   "source": []
  },
  {
   "cell_type": "code",
   "execution_count": null,
   "id": "1490185d",
   "metadata": {},
   "outputs": [],
   "source": []
  },
  {
   "cell_type": "code",
   "execution_count": 51,
   "id": "1a7b4c6f",
   "metadata": {},
   "outputs": [
    {
     "data": {
      "text/plain": [
       "10555.0"
      ]
     },
     "execution_count": 51,
     "metadata": {},
     "output_type": "execute_result"
    }
   ],
   "source": []
  },
  {
   "cell_type": "code",
   "execution_count": null,
   "id": "99136aa9",
   "metadata": {},
   "outputs": [],
   "source": []
  }
 ],
 "metadata": {
  "kernelspec": {
   "display_name": "Python 3 (ipykernel)",
   "language": "python",
   "name": "python3"
  },
  "language_info": {
   "codemirror_mode": {
    "name": "ipython",
    "version": 3
   },
   "file_extension": ".py",
   "mimetype": "text/x-python",
   "name": "python",
   "nbconvert_exporter": "python",
   "pygments_lexer": "ipython3",
   "version": "3.9.12"
  }
 },
 "nbformat": 4,
 "nbformat_minor": 5
}
