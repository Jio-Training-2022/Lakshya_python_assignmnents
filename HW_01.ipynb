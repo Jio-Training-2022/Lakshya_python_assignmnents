{
  "nbformat": 4,
  "nbformat_minor": 0,
  "metadata": {
    "colab": {
      "provenance": [],
      "collapsed_sections": []
    },
    "kernelspec": {
      "name": "python3",
      "display_name": "Python 3"
    },
    "language_info": {
      "name": "python"
    }
  },
  "cells": [
    {
      "cell_type": "code",
      "execution_count": 1,
      "metadata": {
        "id": "6V1-DC2nCEj9"
      },
      "outputs": [],
      "source": [
        "# ## More Problems to Try :: ( Counts towards final evaluation ) \n",
        "# 1. Write a program to find sum all Natural numbers from 1 to N where you have to take N as input from user\n",
        "# 2. Write a program to find simple interest on a principal amount A at interest rate of R for time period T. Take A, R and T as input from the user."
      ]
    },
    {
      "cell_type": "code",
      "source": [
        "n = int(input())"
      ],
      "metadata": {
        "colab": {
          "base_uri": "https://localhost:8080/"
        },
        "id": "jBnvt2j2YGdf",
        "outputId": "c2230dd9-55fe-441c-810b-9de0057c4a68"
      },
      "execution_count": 6,
      "outputs": [
        {
          "name": "stdout",
          "output_type": "stream",
          "text": [
            "3\n"
          ]
        }
      ]
    },
    {
      "cell_type": "code",
      "source": [
        "for i in range(n+1):\n",
        "  i += i\n",
        "print (i)"
      ],
      "metadata": {
        "id": "9xElULm9YSRN"
      },
      "execution_count": 9,
      "outputs": []
    },
    {
      "cell_type": "code",
      "source": [
        "A = float(input())\n",
        "R = float(input())\n",
        "T = float(input())"
      ],
      "metadata": {
        "colab": {
          "base_uri": "https://localhost:8080/"
        },
        "id": "-gUsUNxIBDRK",
        "outputId": "93c9a982-107a-4a6a-9335-dc0c13edcf29"
      },
      "execution_count": 11,
      "outputs": [
        {
          "name": "stdout",
          "output_type": "stream",
          "text": [
            "2\n",
            "2\n",
            "2\n"
          ]
        }
      ]
    },
    {
      "cell_type": "code",
      "source": [
        "SI = A*R*T/100\n",
        "print (SI)"
      ],
      "metadata": {
        "colab": {
          "base_uri": "https://localhost:8080/"
        },
        "id": "6fmnfMBXBJce",
        "outputId": "56278ba1-ceaf-46a7-d32a-26fe086d694f"
      },
      "execution_count": 14,
      "outputs": [
        {
          "output_type": "stream",
          "name": "stdout",
          "text": [
            "0.08\n"
          ]
        }
      ]
    },
    {
      "cell_type": "code",
      "source": [],
      "metadata": {
        "id": "X-M78PP4B-5w"
      },
      "execution_count": null,
      "outputs": []
    }
  ]
}