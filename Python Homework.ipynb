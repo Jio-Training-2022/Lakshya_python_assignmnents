{
 "cells": [
  {
   "cell_type": "markdown",
   "id": "5242a697",
   "metadata": {},
   "source": [
    "## Exercises \n",
    "\n",
    "10. Fetch the data from a url and calculate the number of strings in it. \n",
    "\n",
    "26. Persists the data of a class in a table in a database. ( Postgres )\n",
    "27. use dir function to print all the available functions in the following modules on standard output :: \n",
    "\t2.  calendar\n",
    "\t3.  math\n",
    "\t4.  cmath\n",
    "\t5.  collections\n",
    "\t6.  email\n",
    "\t7.  gc\n",
    "\t8.  hashlib\n",
    "\t9.  html\n",
    "\t10.  http\n",
    "\t11.  io\n",
    "\t12.  json\n",
    "\t13.  logging\n",
    "\t14.  pdb\n",
    "\t15.  random\n",
    "\t16.  runpy\n",
    "\t17.  re\n",
    "\t18.  ssl\n",
    "\t19.  statistics\n",
    "\t20.  subprocess\n",
    "\t21.  sys\n",
    "\t22.  time\n",
    "\t23.  tkinter\n",
    "\t24.  types\n",
    "\t25.  typing\n",
    "\t26.  uuid\n",
    "\t27.  urllib\n",
    "29. Given the name strings in a file, read all the names and one-hot encod all the names and find the total sum \n",
    "39. Replicate the same data in the excel file across multiple sheets with different names \n",
    "40. Create an excel sheet in google-sheets, read it via python and print the data on screen. \n",
    "\n",
    "46. Find all the urls in a data in a file  \n",
    "47. Find all the headings in the data in a file \n",
    "48. Read all the files in a directory and print them. \n",
    "49. Find out the parent directory of a directory. \n"
   ]
  },
  {
   "cell_type": "code",
   "execution_count": 22,
   "id": "7e4f8d60",
   "metadata": {},
   "outputs": [
    {
     "name": "stdout",
     "output_type": "stream",
     "text": [
      "759 days to go\n"
     ]
    }
   ],
   "source": [
    "# 1. Days to go for a particular date in future.\n",
    "\n",
    "from datetime import datetime\n",
    "\n",
    "current_time = datetime.now()\n",
    "# future_time = input('Please enter a date -- dd/mm/yy: ')\n",
    "future_time = '11/12/24'\n",
    "future_time = datetime.strptime(future_time, \"%x\") \n",
    "timedelta = future_time - current_time\n",
    "print(f'{timedelta.days} days to go')\n"
   ]
  },
  {
   "cell_type": "code",
   "execution_count": 23,
   "id": "7d96265f",
   "metadata": {},
   "outputs": [
    {
     "name": "stdout",
     "output_type": "stream",
     "text": [
      "9471.316388888888 hours remaining\n"
     ]
    }
   ],
   "source": [
    "# 2. Hours to go for a particular time.\n",
    "\n",
    "days = timedelta.days*24\n",
    "hours = (timedelta.seconds)/3600\n",
    "print(f'{days+hours} hours remaining')"
   ]
  },
  {
   "cell_type": "code",
   "execution_count": 1,
   "id": "d74320e5",
   "metadata": {},
   "outputs": [
    {
     "name": "stdout",
     "output_type": "stream",
     "text": [
      "['lakshya', '10']\n",
      "['yash', '11']\n",
      "['sumit', '12']\n",
      "['satyam', '12']\n",
      "['sanket', '13']\n",
      "['himanshu', '14']\n",
      "['ronak', '12']\n",
      "Average marks = 12.0\n"
     ]
    }
   ],
   "source": [
    "# 3. Marks of a student are given in a file, calculate the average marks.\n",
    "\n",
    "import os\n",
    "\n",
    "# os.getcwd()\n",
    "# os.path.getsize('marks')\n",
    "f = open('marks', 'r')\n",
    "marks = []\n",
    "for line in f.readlines():\n",
    "    print(line.split())\n",
    "    marks_statement = line.split()\n",
    "    marks.append(int(marks_statement[1]))\n",
    "print(f'Average marks = {sum(marks)/len(marks)}')\n",
    "f.close()"
   ]
  },
  {
   "cell_type": "code",
   "execution_count": 49,
   "id": "db52b1dc",
   "metadata": {},
   "outputs": [
    {
     "name": "stdout",
     "output_type": "stream",
     "text": [
      "Enter the name: yash\n",
      "yash is present in the records.\n"
     ]
    }
   ],
   "source": [
    "# 4. Names are given in a file, check whether a particular name is present.\n",
    "\n",
    "f = open('marks', 'r')\n",
    "name = input('Enter the name: ')\n",
    "for line in f.readlines():\n",
    "#     print(line.split())\n",
    "    if name in line.split()[0]:\n",
    "        print(f'{name} is present in the records.')\n",
    "f.close()"
   ]
  },
  {
   "cell_type": "code",
   "execution_count": 56,
   "id": "41eedd18",
   "metadata": {},
   "outputs": [
    {
     "name": "stdout",
     "output_type": "stream",
     "text": [
      "['christmas']\n"
     ]
    }
   ],
   "source": [
    "# 5. A dict contains events and corresponding dates, given a date, find out what events have occurred and what are still pending. \n",
    "\n",
    "events = {'diwali': '01/01/22', 'christmas': '01/03/22'}\n",
    "\n",
    "# input_date = input('enter a date: ')\n",
    "input_date = \"01/02/22\"\n",
    "\n",
    "# input_date = datetime.strptime(input_date, \"%x\")\n",
    "# print(input_date)\n",
    "events_before = []\n",
    "for values in events.values():\n",
    "    date = datetime.strptime(values, \"%x\")\n",
    "    input_date_1 = datetime.strptime(input_date, \"%x\")\n",
    "    if input_date_1 < date:\n",
    "        events_before.append(list(events.keys())[list(events.values()).index(values)])\n",
    "print(events_before)"
   ]
  },
  {
   "cell_type": "code",
   "execution_count": 28,
   "id": "19da9d71",
   "metadata": {},
   "outputs": [
    {
     "name": "stdout",
     "output_type": "stream",
     "text": [
      "mean is 4.611111111111111\n",
      "median is 4.5\n",
      "mode is 2\n"
     ]
    }
   ],
   "source": [
    "# 6. Given a file with numbers , calculate mean, median and mode.  \n",
    "\n",
    "f = open('numbers', 'r')\n",
    "numbers = []\n",
    "for number in f.readlines():\n",
    "    # print(number)\n",
    "    numbers.append(int(number))\n",
    "numbers = sorted(numbers)\n",
    "# print(numbers)\n",
    "print(f'mean is {sum(numbers)/len(numbers)}')\n",
    "if len(numbers)%2 == 0:\n",
    "    print(f'median is {(numbers[int(len(numbers)/2+1)]+numbers[int(len(numbers)/2-1)])/2}')\n",
    "else:\n",
    "    print(f'median is {numbers[len(numbers)/2+0.5]}')\n",
    "\n",
    "nu_count = {}\n",
    "\n",
    "for number in numbers:\n",
    "    if number not in nu_count:\n",
    "        nu_count[number] = 1\n",
    "    else:\n",
    "        nu_count[number] += 1\n",
    "maximum = max(nu_count.values())\n",
    "# print(maximum)\n",
    "print(f'mode is {nu_count[list(nu_count.values()).index(maximum)]}')\n",
    "f.close()"
   ]
  },
  {
   "cell_type": "code",
   "execution_count": 125,
   "id": "382063aa",
   "metadata": {},
   "outputs": [
    {
     "name": "stdout",
     "output_type": "stream",
     "text": [
      "number of permutations are 65535.0\n"
     ]
    }
   ],
   "source": [
    "# 7. Given a file with strings, calculate the permutations. \n",
    "\n",
    "f = open('strings', 'r')\n",
    "bag_of_words = []\n",
    "for line in f.readlines():\n",
    "    for words in line.split():\n",
    "        bag_of_words.append(words)\n",
    "n = len(bag_of_words)\n",
    "\n",
    "def factorial(x):\n",
    "    fac_x = 1\n",
    "    for i in range (1,x+1):\n",
    "        fac_x *= i\n",
    "    return fac_x\n",
    "\n",
    "permutations = []\n",
    "for r in range(1,n+1):\n",
    "    r_fac = factorial(n)/(factorial(r)*factorial(n-r))\n",
    "    permutations.append(r_fac)\n",
    "\n",
    "print(f\"number of permutations are {sum(permutations)}\")\n",
    "\n",
    "f.close()"
   ]
  },
  {
   "cell_type": "code",
   "execution_count": 129,
   "id": "987d30d8",
   "metadata": {},
   "outputs": [
    {
     "name": "stdout",
     "output_type": "stream",
     "text": [
      "enter any thing to enter the file: 12345678\n"
     ]
    }
   ],
   "source": [
    "# 8. Take user input and write it to a file. \n",
    "\n",
    "inp = input('enter any thing to enter the file: ')\n",
    "f = open('test', 'w')\n",
    "f.write(inp)\n",
    "f.close()"
   ]
  },
  {
   "cell_type": "code",
   "execution_count": 138,
   "id": "5aee6417",
   "metadata": {},
   "outputs": [],
   "source": [
    "# 9. Fetch the data from a url and save it to a file. \n",
    "\n",
    "import urllib.request \n",
    "\n",
    "input_url = urllib.request.urlopen('https://www.google.com/')\n",
    "# print(str(input_url.read()))\n",
    "f = open('test', 'w')\n",
    "f.write(str(input_url.read()))\n",
    "f.close()"
   ]
  },
  {
   "cell_type": "code",
   "execution_count": 163,
   "id": "eb02cb59",
   "metadata": {
    "collapsed": true
   },
   "outputs": [
    {
     "name": "stdout",
     "output_type": "stream",
     "text": [
      "0\n",
      "[[\"b'<!doctype\", 'html><html', 'itemscope=\"\"', 'itemtype=\"http://schema.org/WebPage\"', 'lang=\"en-IN\"><head><meta', 'content=\"text/html;', 'charset=UTF-8\"', 'http-equiv=\"Content-Type\"><meta', 'content=\"/images/branding/googleg/1x/googleg_standard_color_128dp.png\"', 'itemprop=\"image\"><title>Google</title><script', 'nonce=\"jKBydZwGisERw-y4V3g3gw\">(function(){window.google={kEI:\\\\\\'ubNJY5DwLeyaseMPgeaEmAU\\\\\\',kEXPI:\\\\\\'0,1302536,56873,6059,206,4804,2316,383,246,5,5367,1123753,1197760,641,380089,16115,28684,22430,1362,12319,4746,12834,4998,13228,3847,10622,22741,2370,2711,1593,1279,2744,147,1103,840,6297,4120,2023,1777,520,6342,8328,3227,2847,5,33770,1850,15757,3,346,230,1014,1,5445,148,11323,2652,4,1528,2304,7039,3580,2765,15678,5708,7356,932,12727,4437,16786,5809,2548,4097,14,4035,3,3541,1,42154,2,14022,2715,11401,11623,5679,1020,2381,28742,4568,6258,23418,1252,5835,14968,4332,8,5008,2468,445,2,2,1,10956,6350,9326,8155,7381,2,15968,873,14836,4798,6,1922,5784,3995,6542,12001,587,12192,4832,5762,1609,4268,4325,1051,123,700,4,1,2,2,2,2,5337,615,2701,106,965,4193,785,1628,2720,5592,4147,14,82,3890,482,269,202,1868,940,5682,984,2685,922,1936,819,1149,782,2824,216,735,507,21,3,86,456,1037,88,1436,1566,21,764,2923,91,1247,83,859,259,441,892,1,132,445,261,982,1182,971,335,2555,77,264,163,567,471,853,500,332,633,532,28,99,235,43,737,162,352,744,165,179,751,1018,61,2,214,37,225,2,392,49,138,7,333,449,3,6,488,33,63,31,2,7,2,107,243,513,675,1189,832,124,537,3,386,237,174,5321244,3972,29,53,5995817,2803379,3311,141,795,19735,1,1,346,1754,63,12,2,4,5,1,4,95,23,7451662,16496859,470,4041673,1964,1008,2086,13578,3406,11318,1374023\\\\\\',kBL:\\\\\\'stdm\\\\\\'};google.sn=\\\\\\'webhp\\\\\\';google.kHL=\\\\\\'en-IN\\\\\\';})();(function(){\\\\nvar', 'f=this||self;var', 'h,k=[];function', 'l(a){for(var', 'b;a&&(!a.getAttribute||!(b=a.getAttribute(\"eid\")));)a=a.parentNode;return', 'b||h}function', 'm(a){for(var', 'b=null;a&&(!a.getAttribute||!(b=a.getAttribute(\"leid\")));)a=a.parentNode;return', 'b}\\\\nfunction', 'n(a,b,c,d,g){var', 'e=\"\";c||-1!==b.search(\"&ei=\")||(e=\"&ei=\"+l(d),-1===b.search(\"&lei=\")&&(d=m(d))&&(e+=\"&lei=\"+d));d=\"\";!c&&f._cshid&&-1===b.search(\"&cshid=\")&&\"slh\"!==a&&(d=\"&cshid=\"+f._cshid);c=c||\"/\"+(g||\"gen_204\")+\"?atyp=i&ct=\"+a+\"&cad=\"+b+e+\"&zx=\"+Date.now()+d;/^http:/i.test(c)&&\"https:\"===window.location.protocol&&(google.ml&&google.ml(Error(\"a\"),!1,{src:c,glmm:1}),c=\"\");return', 'c};h=google.kEI;google.getEI=l;google.getLEI=m;google.ml=function(){return', 'null};google.log=function(a,b,c,d,g){if(c=n(a,b,c,d,g)){a=new', 'Image;var', 'e=k.length;k[e]=a;a.onerror=a.onload=a.onabort=function(){delete', 'k[e]};a.src=c}};google.logUrl=n;}).call(this);(function(){\\\\ngoogle.y={};google.sy=[];google.x=function(a,b){if(a)var', 'c=a.id;else{do', 'c=Math.random();while(google.y[c])}google.y[c]=[a,b];return!1};google.sx=function(a){google.sy.push(a)};google.lm=[];google.plm=function(a){google.lm.push.apply(google.lm,a)};google.lq=[];google.load=function(a,b,c){google.lq.push([[a],b,c])};google.loadAll=function(a,b){google.lq.push([a,b])};google.bx=!1;google.lx=function(){};}).call(this);google.f={};(function(){\\\\ndocument.documentElement.addEventListener(\"submit\",function(b){var', 'a;if(a=b.target){var', 'c=a.getAttribute(\"data-submitfalse\");a=\"1\"===c||\"q\"===c&&!a.elements.q.value?!0:!1}else', 'a=!1;a&&(b.preventDefault(),b.stopPropagation())},!0);document.documentElement.addEventListener(\"click\",function(b){var', 'a;a:{for(a=b.target;a&&a!==document.documentElement;a=a.parentElement)if(\"A\"===a.tagName){a=\"1\"===a.getAttribute(\"data-nohref\");break', 'a}a=!1}a&&b.preventDefault()},!0);}).call(this);</script><style>#gbar,#guser{font-size:13px;padding-top:1px', '!important;}#gbar{height:22px}#guser{padding-bottom:7px', '!important;text-align:right}.gbh,.gbd{border-top:1px', 'solid', '#c9d7f1;font-size:1px}.gbh{height:0;position:absolute;top:24px;width:100%}@media', 'all{.gb1{height:22px;margin-right:.5em;vertical-align:top}#gbar{float:left}}a.gb1,a.gb4{text-decoration:underline', '!important}a.gb1,a.gb4{color:#00c', '!important}.gbi', '.gb4{color:#dd8e27', '!important}.gbf', '.gb4{color:#900', '!important}\\\\n</style><style>body,td,a,p,.h{font-family:arial,sans-serif}body{margin:0;overflow-y:scroll}#gog{padding:3px', '8px', '0}td{line-height:.8em}.gac_m', 'td{line-height:17px}form{margin-bottom:20px}.h{color:#1558d6}em{font-weight:bold;font-style:normal}.lst{height:25px;width:496px}.gsfi,.lst{font:18px', 'arial,sans-serif}.gsfs{font:17px', 'arial,sans-serif}.ds{display:inline-box;display:inline-block;margin:3px', '0', '4px;margin-left:4px}input{font-family:inherit}body{background:#fff;color:#000}a{color:#4b11a8;text-decoration:none}a:hover,a:active{text-decoration:underline}.fl', 'a{color:#1558d6}a:visited{color:#4b11a8}.sblc{padding-top:5px}.sblc', 'a{display:block;margin:2px', '0;margin-left:13px;font-size:11px}.lsbb{background:#f8f9fa;border:solid', '1px;border-color:#dadce0', '#70757a', '#70757a', '#dadce0;height:30px}.lsbb{display:block}#WqQANb', 'a{display:inline-block;margin:0', '12px}.lsb{background:url(/images/nav_logo229.png)', '0', '-261px', 'repeat-x;border:none;color:#000;cursor:pointer;height:30px;margin:0;outline:0;font:15px', 'arial,sans-serif;vertical-align:top}.lsb:active{background:#dadce0}.lst:focus{outline:none}</style><script', 'nonce=\"jKBydZwGisERw-y4V3g3gw\">(function(){window.google.erd={jsr:1,bv:1669,de:true};\\\\nvar', 'h=this||self;var', 'k,l=null!=(k=h.mei)?k:1,n,p=null!=(n=h.sdo)?n:!0,q=0,r,t=google.erd,v=t.jsr;google.ml=function(a,b,d,m,e){e=void', '0===e?2:e;b&&(r=a&&a.message);if(google.dl)return', 'google.dl(a,e,d),null;if(0>v){window.console&&console.error(a,d);if(-2===v)throw', 'a;b=!1}else', 'b=!a||!a.message||\"Error', 'loading', 'script\"===a.message||q>=l&&!m?!1:!0;if(!b)return', 'null;q++;d=d||{};b=encodeURIComponent;var', 'c=\"/gen_204?atyp=i&ei=\"+b(google.kEI);google.kEXPI&&(c+=\"&jexpid=\"+b(google.kEXPI));c+=\"&srcpg=\"+b(google.sn)+\"&jsr=\"+b(t.jsr)+\"&bver=\"+b(t.bv);var', 'f=a.lineNumber;void', '0!==f&&(c+=\"&line=\"+f);var', 'g=\\\\na.fileName;g&&(0<g.indexOf(\"-extension:/\")&&(e=3),c+=\"&script=\"+b(g),f&&g===window.location.href&&(f=document.documentElement.outerHTML.split(\"\\\\\\\\n\")[f],c+=\"&cad=\"+b(f?f.substring(0,300):\"No', 'script', 'found.\")));c+=\"&jsel=\"+e;for(var', 'u', 'in', 'd)c+=\"&\",c+=b(u),c+=\"=\",c+=b(d[u]);c=c+\"&emsg=\"+b(a.name+\":', '\"+a.message);c=c+\"&jsst=\"+b(a.stack||\"N/A\");12288<=c.length&&(c=c.substr(0,12288));a=c;m||google.log(0,\"\",a);return', 'a};window.onerror=function(a,b,d,m,e){r!==a&&(a=e', 'instanceof', 'Error?e:Error(a),void', '0===d||\"lineNumber\"in', 'a||(a.lineNumber=d),void', '0===b||\"fileName\"in', 'a||(a.fileName=b),google.ml(a,!1,void', '0,!1,\"SyntaxError\"===a.name||\"SyntaxError\"===a.message.substring(0,11)||-1!==a.message.indexOf(\"Script', 'error\")?2:0));r=null;p&&q>=l&&(window.onerror=null)};})();</script></head><body', 'bgcolor=\"#fff\"><script', 'nonce=\"jKBydZwGisERw-y4V3g3gw\">(function(){var', \"src=\\\\'/images/nav_logo229.png\\\\';var\", 'iesg=false;document.body.onload', '=', 'function(){window.n', '&&', 'window.n();if', '(document.images){new', 'Image().src=src;}\\\\nif', '(!iesg){document.f&&document.f.q.focus();document.gbqf&&document.gbqf.q.focus();}\\\\n}\\\\n})();</script><div', 'id=\"mngb\"><div', 'id=gbar><nobr><b', 'class=gb1>Search</b>', '<a', 'class=gb1', 'href=\"https://www.google.co.in/imghp?hl=en&tab=wi\">Images</a>', '<a', 'class=gb1', 'href=\"https://maps.google.co.in/maps?hl=en&tab=wl\">Maps</a>', '<a', 'class=gb1', 'href=\"https://play.google.com/?hl=en&tab=w8\">Play</a>', '<a', 'class=gb1', 'href=\"https://www.youtube.com/?tab=w1\">YouTube</a>', '<a', 'class=gb1', 'href=\"https://news.google.com/?tab=wn\">News</a>', '<a', 'class=gb1', 'href=\"https://mail.google.com/mail/?tab=wm\">Gmail</a>', '<a', 'class=gb1', 'href=\"https://drive.google.com/?tab=wo\">Drive</a>', '<a', 'class=gb1', 'style=\"text-decoration:none\"', 'href=\"https://www.google.co.in/intl/en/about/products?tab=wh\"><u>More</u>', '&raquo;</a></nobr></div><div', 'id=guser', 'width=100%><nobr><span', 'id=gbn', 'class=gbi></span><span', 'id=gbf', 'class=gbf></span><span', 'id=gbe></span><a', 'href=\"http://www.google.co.in/history/optout?hl=en\"', 'class=gb4>Web', 'History</a>', '|', '<a', 'href=\"/preferences?hl=en\"', 'class=gb4>Settings</a>', '|', '<a', 'target=_top', 'id=gb_70', 'href=\"https://accounts.google.com/ServiceLogin?hl=en&passive=true&continue=https://www.google.com/&ec=GAZAAQ\"', 'class=gb4>Sign', 'in</a></nobr></div><div', 'class=gbh', 'style=left:0></div><div', 'class=gbh', 'style=right:0></div></div><center><br', 'clear=\"all\"', 'id=\"lgpd\"><div', 'id=\"lga\"><img', 'alt=\"Google\"', 'height=\"92\"', 'src=\"/images/branding/googlelogo/1x/googlelogo_white_background_color_272x92dp.png\"', 'style=\"padding:28px', '0', '14px\"', 'width=\"272\"', 'id=\"hplogo\"><br><br></div><form', 'action=\"/search\"', 'name=\"f\"><table', 'cellpadding=\"0\"', 'cellspacing=\"0\"><tr', 'valign=\"top\"><td', 'width=\"25%\">&nbsp;</td><td', 'align=\"center\"', 'nowrap=\"\"><input', 'name=\"ie\"', 'value=\"ISO-8859-1\"', 'type=\"hidden\"><input', 'value=\"en-IN\"', 'name=\"hl\"', 'type=\"hidden\"><input', 'name=\"source\"', 'type=\"hidden\"', 'value=\"hp\"><input', 'name=\"biw\"', 'type=\"hidden\"><input', 'name=\"bih\"', 'type=\"hidden\"><div', 'class=\"ds\"', 'style=\"height:32px;margin:4px', '0\"><input', 'class=\"lst\"', 'style=\"margin:0;padding:5px', '8px', '0', '6px;vertical-align:top;color:#000\"', 'autocomplete=\"off\"', 'value=\"\"', 'title=\"Google', 'Search\"', 'maxlength=\"2048\"', 'name=\"q\"', 'size=\"57\"></div><br', 'style=\"line-height:0\"><span', 'class=\"ds\"><span', 'class=\"lsbb\"><input', 'class=\"lsb\"', 'value=\"Google', 'Search\"', 'name=\"btnG\"', 'type=\"submit\"></span></span><span', 'class=\"ds\"><span', 'class=\"lsbb\"><input', 'class=\"lsb\"', 'id=\"tsuid_1\"', 'value=\"I\\\\\\'m', 'Feeling', 'Lucky\"', 'name=\"btnI\"', 'type=\"submit\"><script', 'nonce=\"jKBydZwGisERw-y4V3g3gw\">(function(){var', \"id=\\\\'tsuid_1\\\\';document.getElementById(id).onclick\", '=', 'function(){if', '(this.form.q.value){this.checked', '=', '1;if', '(this.form.iflsig)this.form.iflsig.disabled', '=', 'false;}\\\\nelse', \"top.location=\\\\'/doodles/\\\\';};})();</script><input\", 'value=\"AJiK0e8AAAAAY0nByXwRhsAiwzYlY1aaKPjuQVEe1lfQ\"', 'name=\"iflsig\"', 'type=\"hidden\"></span></span></td><td', 'class=\"fl', 'sblc\"', 'align=\"left\"', 'nowrap=\"\"', 'width=\"25%\"><a', 'href=\"/advanced_search?hl=en-IN&amp;authuser=0\">Advanced', 'search</a></td></tr></table><input', 'id=\"gbv\"', 'name=\"gbv\"', 'type=\"hidden\"', 'value=\"1\"><script', 'nonce=\"jKBydZwGisERw-y4V3g3gw\">(function(){\\\\nvar', 'a,b=\"1\";if(document&&document.getElementById)if(\"undefined\"!=typeof', 'XMLHttpRequest)b=\"2\";else', 'if(\"undefined\"!=typeof', 'ActiveXObject){var', 'c,d,e=[\"MSXML2.XMLHTTP.6.0\",\"MSXML2.XMLHTTP.3.0\",\"MSXML2.XMLHTTP\",\"Microsoft.XMLHTTP\"];for(c=0;d=e[c++];)try{new', 'ActiveXObject(d),b=\"2\"}catch(h){}}a=b;if(\"2\"==a&&-1==location.search.indexOf(\"&gbv=2\")){var', 'f=google.gbvu,g=document.getElementById(\"gbv\");g&&(g.value=a);f&&window.setTimeout(function(){location.href=f},0)};}).call(this);</script></form><div', 'id=\"gac_scont\"></div><div', 'style=\"font-size:83%;min-height:3.5em\"><br><div', 'id=\"gws-output-pages-elements-homepage_additional_languages__als\"><style>#gws-output-pages-elements-homepage_additional_languages__als{font-size:small;margin-bottom:24px}#SIvCob{color:#3c4043;display:inline-block;line-height:28px;}#SIvCob', 'a{padding:0', '3px;}.H6sW5{display:inline-block;margin:0', '2px;white-space:nowrap}.z4hgWe{display:inline-block;margin:0', '2px}</style><div', 'id=\"SIvCob\">Google', 'offered', 'in:', '<a', 'href=\"https://www.google.com/setprefs?sig=0_x5OJn9xDQNARNRIEmDPB0-SPoBM%3D&amp;hl=hi&amp;source=homepage&amp;sa=X&amp;ved=0ahUKEwjQsJTVteD6AhVsTWwGHQEzAVMQ2ZgBCAU\">&#2361;&#2367;&#2344;&#2381;&#2342;&#2368;</a>', '<a', 'href=\"https://www.google.com/setprefs?sig=0_x5OJn9xDQNARNRIEmDPB0-SPoBM%3D&amp;hl=bn&amp;source=homepage&amp;sa=X&amp;ved=0ahUKEwjQsJTVteD6AhVsTWwGHQEzAVMQ2ZgBCAY\">&#2476;&#2494;&#2434;&#2482;&#2494;</a>', '<a', 'href=\"https://www.google.com/setprefs?sig=0_x5OJn9xDQNARNRIEmDPB0-SPoBM%3D&amp;hl=te&amp;source=homepage&amp;sa=X&amp;ved=0ahUKEwjQsJTVteD6AhVsTWwGHQEzAVMQ2ZgBCAc\">&#3108;&#3142;&#3122;&#3137;&#3095;&#3137;</a>', '<a', 'href=\"https://www.google.com/setprefs?sig=0_x5OJn9xDQNARNRIEmDPB0-SPoBM%3D&amp;hl=mr&amp;source=homepage&amp;sa=X&amp;ved=0ahUKEwjQsJTVteD6AhVsTWwGHQEzAVMQ2ZgBCAg\">&#2350;&#2352;&#2366;&#2336;&#2368;</a>', '<a', 'href=\"https://www.google.com/setprefs?sig=0_x5OJn9xDQNARNRIEmDPB0-SPoBM%3D&amp;hl=ta&amp;source=homepage&amp;sa=X&amp;ved=0ahUKEwjQsJTVteD6AhVsTWwGHQEzAVMQ2ZgBCAk\">&#2980;&#2990;&#3007;&#2996;&#3021;</a>', '<a', 'href=\"https://www.google.com/setprefs?sig=0_x5OJn9xDQNARNRIEmDPB0-SPoBM%3D&amp;hl=gu&amp;source=homepage&amp;sa=X&amp;ved=0ahUKEwjQsJTVteD6AhVsTWwGHQEzAVMQ2ZgBCAo\">&#2711;&#2753;&#2716;&#2736;&#2750;&#2724;&#2752;</a>', '<a', 'href=\"https://www.google.com/setprefs?sig=0_x5OJn9xDQNARNRIEmDPB0-SPoBM%3D&amp;hl=kn&amp;source=homepage&amp;sa=X&amp;ved=0ahUKEwjQsJTVteD6AhVsTWwGHQEzAVMQ2ZgBCAs\">&#3221;&#3240;&#3277;&#3240;&#3233;</a>', '<a', 'href=\"https://www.google.com/setprefs?sig=0_x5OJn9xDQNARNRIEmDPB0-SPoBM%3D&amp;hl=ml&amp;source=homepage&amp;sa=X&amp;ved=0ahUKEwjQsJTVteD6AhVsTWwGHQEzAVMQ2ZgBCAw\">&#3374;&#3378;&#3375;&#3390;&#3379;&#3330;</a>', '<a', 'href=\"https://www.google.com/setprefs?sig=0_x5OJn9xDQNARNRIEmDPB0-SPoBM%3D&amp;hl=pa&amp;source=homepage&amp;sa=X&amp;ved=0ahUKEwjQsJTVteD6AhVsTWwGHQEzAVMQ2ZgBCA0\">&#2602;&#2672;&#2588;&#2622;&#2604;&#2624;</a>', '</div></div></div><span', 'id=\"footer\"><div', 'style=\"font-size:10pt\"><div', 'style=\"margin:19px', 'auto;text-align:center\"', 'id=\"WqQANb\"><a', 'href=\"/intl/en/ads/\">Advertising\\\\xa0Programs</a><a', 'href=\"http://www.google.co.in/services/\">Business', 'Solutions</a><a', 'href=\"/intl/en/about.html\">About', 'Google</a><a', 'href=\"https://www.google.com/setprefdomain?prefdom=IN&amp;prev=https://www.google.co.in/&amp;sig=K_-MAccHOpp8pJUkJEGVzIuW48QlI%3D\">Google.co.in</a></div></div><p', 'style=\"font-size:8pt;color:#70757a\">&copy;', '2022', '-', '<a', 'href=\"/intl/en/policies/privacy/\">Privacy</a>', '-', '<a', 'href=\"/intl/en/policies/terms/\">Terms</a></p></span></center><script', 'nonce=\"jKBydZwGisERw-y4V3g3gw\">(function(){window.google.cdo={height:757,width:1440};(function(){\\\\nvar', 'a=window.innerWidth,b=window.innerHeight;if(!a||!b){var', 'c=window.document,d=\"CSS1Compat\"==c.compatMode?c.documentElement:c.body;a=d.clientWidth;b=d.clientHeight}a&&b&&(a!=google.cdo.width||b!=google.cdo.height)&&google.log(\"\",\"\",\"/client_204?&atyp=i&biw=\"+a+\"&bih=\"+b+\"&ei=\"+google.kEI);}).call(this);})();</script>', '<script', 'nonce=\"jKBydZwGisERw-y4V3g3gw\">(function(){google.xjs={ck:\\\\\\'xjs.hp.iHfCprUw_lc.L.X.O\\\\\\',cs:\\\\\\'ACT90oGlyF8PPioJvQxDloDt6C10WyHgbA\\\\\\',excm:[]};})();</script>', '<script', 'nonce=\"jKBydZwGisERw-y4V3g3gw\">(function(){var', \"u=\\\\'/xjs/_/js/k\\\\\\\\x3dxjs.hp.en.VW3bwV24fwA.O/am\\\\\\\\x3dAAB0AgBQAKAC/d\\\\\\\\x3d1/ed\\\\\\\\x3d1/rs\\\\\\\\x3dACT90oHmWZvfO6Dt787WHFIFZYfVyzJjtA/m\\\\\\\\x3dsb_he,d\\\\';\\\\nvar\", 'd=this||self,e=function(a){return', 'a};\\\\nvar', 'g;var', 'l=function(a,b){this.g=b===h?a:\"\"};l.prototype.toString=function(){return', 'this.g+\"\"};var', 'h={};function', 'n(){var', 'a=u;google.lx=function(){p(a);google.lx=function(){}};google.bx||google.lx()}\\\\nfunction', 'p(a){google.timers&&google.timers.load&&google.tick&&google.tick(\"load\",\"xjsls\");var', 'b=document;var', 'c=\"SCRIPT\";\"application/xhtml+xml\"===b.contentType&&(c=c.toLowerCase());c=b.createElement(c);if(void', '0===g){b=null;var', 'k=d.trustedTypes;if(k&&k.createPolicy){try{b=k.createPolicy(\"goog#html\",{createHTML:e,createScript:e,createScriptURL:e})}catch(q){d.console&&d.console.error(q.message)}g=b}else', 'g=b}a=(b=g)?b.createScriptURL(a):a;a=new', 'l(a,h);c.src=a', 'instanceof', 'l&&a.constructor===l?a.g:\"type_error:TrustedResourceUrl\";var', 'f,m;(f=(a=null==(m=(f=(c.ownerDocument&&c.ownerDocument.defaultView||window).document).querySelector)?void', '0:m.call(f,\"script[nonce]\"))?a.nonce||a.getAttribute(\"nonce\")||\"\":\"\")&&c.setAttribute(\"nonce\",f);document.body.appendChild(c);google.psa=!0};google.xjsu=u;setTimeout(function(){n()},0);})();function', '_DumpException(e){throw', 'e;}\\\\nfunction', \"_F_installCss(c){}\\\\n(function(){google.jl={blt:\\\\'none\\\\',chnk:0,dw:false,dwu:true,emtn:0,end:0,ine:false,injs:\\\\'none\\\\',injt:0,injth:0,injv2:false,lls:\\\\'default\\\\',pdt:0,rep:0,snet:true,strt:0,ubm:false,uwp:true};})();(function(){var\", \"pmc=\\\\'{\\\\\\\\x22d\\\\\\\\x22:{},\\\\\\\\x22sb_he\\\\\\\\x22:{\\\\\\\\x22agen\\\\\\\\x22:true,\\\\\\\\x22cgen\\\\\\\\x22:true,\\\\\\\\x22client\\\\\\\\x22:\\\\\\\\x22heirloom-hp\\\\\\\\x22,\\\\\\\\x22dh\\\\\\\\x22:true,\\\\\\\\x22dhqt\\\\\\\\x22:true,\\\\\\\\x22ds\\\\\\\\x22:\\\\\\\\x22\\\\\\\\x22,\\\\\\\\x22ffql\\\\\\\\x22:\\\\\\\\x22en\\\\\\\\x22,\\\\\\\\x22fl\\\\\\\\x22:true,\\\\\\\\x22host\\\\\\\\x22:\\\\\\\\x22google.com\\\\\\\\x22,\\\\\\\\x22isbh\\\\\\\\x22:28,\\\\\\\\x22jsonp\\\\\\\\x22:true,\\\\\\\\x22msgs\\\\\\\\x22:{\\\\\\\\x22cibl\\\\\\\\x22:\\\\\\\\x22Clear\", 'Search\\\\\\\\x22,\\\\\\\\x22dym\\\\\\\\x22:\\\\\\\\x22Did', 'you', 'mean:\\\\\\\\x22,\\\\\\\\x22lcky\\\\\\\\x22:\\\\\\\\x22I\\\\\\\\\\\\\\\\u0026#39;m', 'Feeling', 'Lucky\\\\\\\\x22,\\\\\\\\x22lml\\\\\\\\x22:\\\\\\\\x22Learn', 'more\\\\\\\\x22,\\\\\\\\x22oskt\\\\\\\\x22:\\\\\\\\x22Input', 'tools\\\\\\\\x22,\\\\\\\\x22psrc\\\\\\\\x22:\\\\\\\\x22This', 'search', 'was', 'removed', 'from', 'your', '\\\\\\\\\\\\\\\\u003Ca', 'href\\\\\\\\x3d\\\\\\\\\\\\\\\\\\\\\\\\x22/history\\\\\\\\\\\\\\\\\\\\\\\\x22\\\\\\\\\\\\\\\\u003EWeb', 'History\\\\\\\\\\\\\\\\u003C/a\\\\\\\\\\\\\\\\u003E\\\\\\\\x22,\\\\\\\\x22psrl\\\\\\\\x22:\\\\\\\\x22Remove\\\\\\\\x22,\\\\\\\\x22sbit\\\\\\\\x22:\\\\\\\\x22Search', 'by', 'image\\\\\\\\x22,\\\\\\\\x22srch\\\\\\\\x22:\\\\\\\\x22Google', 'Search\\\\\\\\x22},\\\\\\\\x22ovr\\\\\\\\x22:{},\\\\\\\\x22pq\\\\\\\\x22:\\\\\\\\x22\\\\\\\\x22,\\\\\\\\x22refpd\\\\\\\\x22:true,\\\\\\\\x22rfs\\\\\\\\x22:[],\\\\\\\\x22sbas\\\\\\\\x22:\\\\\\\\x220', '3px', '8px', '0', 'rgba(0,0,0,0.2),0', '0', '0', '1px', \"rgba(0,0,0,0.08)\\\\\\\\x22,\\\\\\\\x22sbpl\\\\\\\\x22:16,\\\\\\\\x22sbpr\\\\\\\\x22:16,\\\\\\\\x22scd\\\\\\\\x22:10,\\\\\\\\x22stok\\\\\\\\x22:\\\\\\\\x22hYMeaQ1lQ1_QUahIxPSoaj4-0CQ\\\\\\\\x22,\\\\\\\\x22uhde\\\\\\\\x22:false}}\\\\';google.pmc=JSON.parse(pmc);})();</script>\", \"</body></html>'\"]]\n"
     ]
    }
   ],
   "source": [
    "# 10. Fetch the data from a url and calculate the number of strings in it.\n",
    "\n",
    "input_url = urllib.request.urlopen('https://www.google.com/')\n",
    "f=[]\n",
    "f.append(str(input_url.read()).split())\n",
    "count=0\n",
    "for i in f:\n",
    "    if type(i) == str:\n",
    "        count+=1\n",
    "print(count)\n",
    "print(f)"
   ]
  },
  {
   "cell_type": "code",
   "execution_count": 165,
   "id": "9f0d6a7f",
   "metadata": {},
   "outputs": [
    {
     "name": "stdout",
     "output_type": "stream",
     "text": [
      "609\n",
      "[98, 97, 110, 97, 110, 97]\n"
     ]
    }
   ],
   "source": [
    "# 11. Calculate the weight of the word banana. ( weight = sum of ascii values of all characters )\n",
    "asc = []\n",
    "for i in 'banana':\n",
    "    asc.append(ord(i))\n",
    "print(sum(asc))\n",
    "print(asc)"
   ]
  },
  {
   "cell_type": "code",
   "execution_count": 170,
   "id": "4748e815",
   "metadata": {},
   "outputs": [
    {
     "name": "stdout",
     "output_type": "stream",
     "text": [
      "enter the number of times a string occurs in a file: repeat\n",
      "3\n"
     ]
    }
   ],
   "source": [
    "# 12. Calculate how many times a string occurs in a given file. \n",
    "\n",
    "string = input('enter the number of times a string occurs in a file: ')\n",
    "f = open('strings', 'r')\n",
    "count = 0\n",
    "for lines in f.readlines():\n",
    "    x = lines.split()\n",
    "    if string in x:\n",
    "        count += x.count(string)\n",
    "f.close()\n",
    "print(count)"
   ]
  },
  {
   "cell_type": "code",
   "execution_count": 180,
   "id": "f9a934aa",
   "metadata": {},
   "outputs": [
    {
     "name": "stdout",
     "output_type": "stream",
     "text": [
      "enter the name of a file: strings\n"
     ]
    }
   ],
   "source": [
    "# 13. Given a file create its zip archive. \n",
    "\n",
    "from zipfile import ZipFile\n",
    "file_name = input('enter the name of a file: ')\n",
    "zip_file = ZipFile('test.zip','w')\n",
    "zip_file.write(file_name)\n"
   ]
  },
  {
   "cell_type": "code",
   "execution_count": 181,
   "id": "06839c10",
   "metadata": {},
   "outputs": [],
   "source": [
    "# 14. Delete a file. \n",
    "\n",
    "os.remove('test.zip')"
   ]
  },
  {
   "cell_type": "code",
   "execution_count": 182,
   "id": "06bedb19",
   "metadata": {
    "collapsed": true
   },
   "outputs": [
    {
     "data": {
      "text/plain": [
       "['Untitled Folder',\n",
       " 'new_folder',\n",
       " 'strings',\n",
       " 'numbers',\n",
       " '.DS_Store',\n",
       " 'Python Homework.ipynb',\n",
       " 'test',\n",
       " 'marks',\n",
       " 'Python Hero',\n",
       " 'numbers.xlsx',\n",
       " 'one',\n",
       " 'scripts',\n",
       " 'numbers.csv',\n",
       " 'Doubts.ipynb',\n",
       " 'lakshya.prog',\n",
       " '.ipynb_checkpoints',\n",
       " 'Python Cheat Sheet.ipynb',\n",
       " 'Numpy & Pandas.ipynb',\n",
       " 'Pandas',\n",
       " 'Geek chat app',\n",
       " 'image.png',\n",
       " 'fourier.png',\n",
       " '.idea']"
      ]
     },
     "execution_count": 182,
     "metadata": {},
     "output_type": "execute_result"
    }
   ],
   "source": [
    "# 15. Print all the files in a given directory. \n",
    "\n",
    "os.listdir() # you can enter the path name inside the parenthesis"
   ]
  },
  {
   "cell_type": "code",
   "execution_count": 189,
   "id": "23a82b78",
   "metadata": {
    "scrolled": true
   },
   "outputs": [
    {
     "name": "stdout",
     "output_type": "stream",
     "text": [
      "enter a binary number: 11111\n"
     ]
    },
    {
     "data": {
      "text/plain": [
       "(155, '0x9b', '0o233', '11111')"
      ]
     },
     "execution_count": 189,
     "metadata": {},
     "output_type": "execute_result"
    }
   ],
   "source": [
    "# 16. Given a number in binary, print its hex , octa and binary representation \n",
    "\n",
    "binary = input('enter a binary number: ')\n",
    "def bin_to_decimal(binary):\n",
    "    decimal = 0\n",
    "    for i in binary:\n",
    "        for n in range(0, len(binary)):\n",
    "            x = int(i)*2**n\n",
    "            decimal += x\n",
    "    return decimal, hex(decimal), oct(decimal), binary\n",
    "bin_to_decimal(binary)\n"
   ]
  },
  {
   "cell_type": "code",
   "execution_count": 184,
   "id": "02550485",
   "metadata": {},
   "outputs": [
    {
     "data": {
      "text/plain": [
       "5"
      ]
     },
     "execution_count": 184,
     "metadata": {},
     "output_type": "execute_result"
    }
   ],
   "source": [
    "# 17. Solve the fizz buzz problem \n",
    "\n",
    "user_input = int(input('Enter a number'))\n",
    "\n",
    "for i in range (1,user_input):\n",
    "  if i % 3 == 0 and i % 5 == 0:\n",
    "    print ('fizzbuzz')\n",
    "  elif i % 3 == 0:\n",
    "    print ('fizz')\n",
    "  elif i % 5 == 0:\n",
    "    print ('buzz')\n",
    "  else:\n",
    "    print (i)\n"
   ]
  },
  {
   "cell_type": "code",
   "execution_count": 205,
   "id": "6e0de19f",
   "metadata": {},
   "outputs": [
    {
     "name": "stdout",
     "output_type": "stream",
     "text": [
      "enter the word you want to encode: klm\n"
     ]
    },
    {
     "data": {
      "text/plain": [
       "'abc'"
      ]
     },
     "execution_count": 205,
     "metadata": {},
     "output_type": "execute_result"
    }
   ],
   "source": [
    "# 18. Encode a string by adding 10 to all the ascii characters of that string and decode it back \n",
    "\n",
    "word = input('enter the word you want to encode: ')\n",
    "\n",
    "def encoder(string):\n",
    "    asc = []\n",
    "    code = \"\"\n",
    "#     code = code.strip()\n",
    "    for i in string:\n",
    "        asc.append(ord(i)+10)\n",
    "    for i in asc:\n",
    "        code += chr(i)\n",
    "    return code\n",
    "\n",
    "def decoder(code):\n",
    "    asc = []\n",
    "    decode = \"\"\n",
    "#     decode = decode.strip()\n",
    "    for i in code:\n",
    "        asc.append(ord(i)-10)\n",
    "    for i in asc:\n",
    "        decode += chr(i)\n",
    "    return decode\n",
    "\n",
    "# encoder(word)\n",
    "# decoder(word)\n"
   ]
  },
  {
   "cell_type": "code",
   "execution_count": 206,
   "id": "6d794a64",
   "metadata": {},
   "outputs": [
    {
     "name": "stdout",
     "output_type": "stream",
     "text": [
      "9\n",
      "20\n"
     ]
    }
   ],
   "source": [
    "# 19. Use a function from another file \n",
    "\n",
    "open_file = open(\"myfile.prog\", \"r\")\n",
    "x = (open_file.readlines())\n",
    "for i in x:\n",
    "    if \"add\" in i:\n",
    "        q = i.split()\n",
    "        print( int(q[1])+int(q[2]) )\n",
    "    elif \"mul\" in i:\n",
    "        q = i.split()\n",
    "        print( int(q[1])* int(q[2]) )\n",
    "open_file.close()\n"
   ]
  },
  {
   "cell_type": "code",
   "execution_count": 198,
   "id": "639e5463",
   "metadata": {},
   "outputs": [
    {
     "name": "stdout",
     "output_type": "stream",
     "text": [
      " Qualis is a diesel model car.\n"
     ]
    }
   ],
   "source": [
    "# 20. Write a class to represent a car \n",
    "\n",
    "class car:\n",
    "\n",
    "    def __init__(self, type, model):\n",
    "        self.type = type\n",
    "        self.model = model\n",
    "\n",
    "    def __str__(self):\n",
    "        return f\" {self.model} is a {self.type} model car.\"\n",
    "    \n",
    "\n",
    "c1 = car('diesel', 'Qualis')    \n",
    "print(c1)"
   ]
  },
  {
   "cell_type": "code",
   "execution_count": null,
   "id": "260b655b",
   "metadata": {},
   "outputs": [],
   "source": []
  },
  {
   "cell_type": "code",
   "execution_count": 43,
   "id": "72a8772b",
   "metadata": {},
   "outputs": [
    {
     "name": "stdout",
     "output_type": "stream",
     "text": [
      " Macbook has m1 processor.\n"
     ]
    }
   ],
   "source": [
    "# 21. Write a class to represent a Laptop.\n",
    "\n",
    "class laptop:\n",
    "\n",
    "    def __init__(self, processor, model):\n",
    "        self.processor = processor\n",
    "        self.model = model\n",
    "\n",
    "    def __str__(self):\n",
    "        return f\" {self.model} has {self.processor} processor.\"\n",
    "    \n",
    "l1 = laptop('m1','Macbook')\n",
    "print(l1)"
   ]
  },
  {
   "cell_type": "code",
   "execution_count": 47,
   "id": "62731c00",
   "metadata": {},
   "outputs": [
    {
     "name": "stdout",
     "output_type": "stream",
     "text": [
      " SBI ATM has 5L rupees left.\n"
     ]
    }
   ],
   "source": [
    "# 22. Write a class to represent an ATM machine.\n",
    "\n",
    "class ATM:\n",
    "\n",
    "    def __init__(self, money, ATM):\n",
    "        self.money = money\n",
    "        self.ATM = ATM\n",
    "\n",
    "    def __str__(self):\n",
    "        return f\" {self.ATM} has {self.money} rupees left.\"\n",
    "    \n",
    "a1 = ATM('5L','SBI ATM')\n",
    "print(a1)"
   ]
  },
  {
   "cell_type": "code",
   "execution_count": 285,
   "id": "d90c16ed",
   "metadata": {},
   "outputs": [
    {
     "name": "stdout",
     "output_type": "stream",
     "text": [
      " 10th class has 100 students.\n"
     ]
    }
   ],
   "source": [
    "# 23. Write a class to represent a school.\n",
    "\n",
    "class school:\n",
    "\n",
    "    def __init__(self, classroom, students):\n",
    "        self.classroom = classroom\n",
    "        self.students = students\n",
    "\n",
    "    def __str__(self):\n",
    "        return f\" {self.classroom} class has {self.students} students.\"\n",
    "\n",
    "s1 = school('10th', 100)\n",
    "print(s1)"
   ]
  },
  {
   "cell_type": "code",
   "execution_count": 286,
   "id": "d70b2866",
   "metadata": {},
   "outputs": [
    {
     "name": "stdout",
     "output_type": "stream",
     "text": [
      " TATA has more than 100 employees.\n"
     ]
    }
   ],
   "source": [
    "# 24. Write a class to represent a company. \n",
    "\n",
    "class company:\n",
    "\n",
    "    def __init__(self, company, employees):\n",
    "        self.company = company\n",
    "        self.employees = employees\n",
    "\n",
    "    def __str__(self):\n",
    "        return f\" {self.company} has more than {self.employees} employees.\"\n",
    "\n",
    "c1 = company('TATA', 100)\n",
    "print(c1)"
   ]
  },
  {
   "cell_type": "code",
   "execution_count": 288,
   "id": "33ba1cf9",
   "metadata": {},
   "outputs": [
    {
     "name": "stdout",
     "output_type": "stream",
     "text": [
      " Harishchadragad has more than 12 candidates.\n"
     ]
    }
   ],
   "source": [
    "# 25. Write a class to represent a Journey / Trip.\n",
    "\n",
    "class Journey:\n",
    "\n",
    "    def __init__(self, location, candidates):\n",
    "        self.location = location\n",
    "        self.candidates = candidates\n",
    "\n",
    "    def __str__(self):\n",
    "        return f\" {self.location} has more than {self.candidates} candidates.\"\n",
    "    \n",
    "j1 = Journey('Harishchadragad', 12)\n",
    "print(j1)"
   ]
  },
  {
   "cell_type": "code",
   "execution_count": 234,
   "id": "912a41bd",
   "metadata": {
    "collapsed": true
   },
   "outputs": [
    {
     "data": {
      "text/plain": [
       "['__add__',\n",
       " '__class__',\n",
       " '__delattr__',\n",
       " '__dir__',\n",
       " '__doc__',\n",
       " '__eq__',\n",
       " '__format__',\n",
       " '__ge__',\n",
       " '__getattribute__',\n",
       " '__gt__',\n",
       " '__hash__',\n",
       " '__init__',\n",
       " '__init_subclass__',\n",
       " '__le__',\n",
       " '__lt__',\n",
       " '__ne__',\n",
       " '__new__',\n",
       " '__radd__',\n",
       " '__reduce__',\n",
       " '__reduce_ex__',\n",
       " '__repr__',\n",
       " '__rsub__',\n",
       " '__setattr__',\n",
       " '__sizeof__',\n",
       " '__str__',\n",
       " '__sub__',\n",
       " '__subclasshook__',\n",
       " 'astimezone',\n",
       " 'combine',\n",
       " 'ctime',\n",
       " 'date',\n",
       " 'day',\n",
       " 'dst',\n",
       " 'fold',\n",
       " 'fromisocalendar',\n",
       " 'fromisoformat',\n",
       " 'fromordinal',\n",
       " 'fromtimestamp',\n",
       " 'hour',\n",
       " 'isocalendar',\n",
       " 'isoformat',\n",
       " 'isoweekday',\n",
       " 'max',\n",
       " 'microsecond',\n",
       " 'min',\n",
       " 'minute',\n",
       " 'month',\n",
       " 'now',\n",
       " 'replace',\n",
       " 'resolution',\n",
       " 'second',\n",
       " 'strftime',\n",
       " 'strptime',\n",
       " 'time',\n",
       " 'timestamp',\n",
       " 'timetuple',\n",
       " 'timetz',\n",
       " 'today',\n",
       " 'toordinal',\n",
       " 'tzinfo',\n",
       " 'tzname',\n",
       " 'utcfromtimestamp',\n",
       " 'utcnow',\n",
       " 'utcoffset',\n",
       " 'utctimetuple',\n",
       " 'weekday',\n",
       " 'year']"
      ]
     },
     "execution_count": 234,
     "metadata": {},
     "output_type": "execute_result"
    }
   ],
   "source": [
    "# 27. use dir function to print all the available functions in the following modules on standard output :: \n",
    "\n",
    "import importlib\n",
    "import datetime\n",
    "x = ['datetime.datetime', 'datetime.date', 'datetime.timedelta','calendar','math','cmath','collections','email','gc','hashlib','html','http','io','json','logging','pdb','random','runpy','re','ssl','statistics','subprocess','sys','time','tkinter','types','typing','uuid','urllib']\n",
    "def import_lib(x):\n",
    "    for i in x:\n",
    "        globals()[str(i)] = importlib.import_module(str(i))\n",
    "#         print(dir(i))\n",
    "# import_lib(x)\n",
    "dir(datetime.datetime)"
   ]
  },
  {
   "cell_type": "code",
   "execution_count": 235,
   "id": "9888b926",
   "metadata": {
    "collapsed": true
   },
   "outputs": [
    {
     "data": {
      "text/plain": [
       "['__add__',\n",
       " '__class__',\n",
       " '__delattr__',\n",
       " '__dir__',\n",
       " '__doc__',\n",
       " '__eq__',\n",
       " '__format__',\n",
       " '__ge__',\n",
       " '__getattribute__',\n",
       " '__gt__',\n",
       " '__hash__',\n",
       " '__init__',\n",
       " '__init_subclass__',\n",
       " '__le__',\n",
       " '__lt__',\n",
       " '__ne__',\n",
       " '__new__',\n",
       " '__radd__',\n",
       " '__reduce__',\n",
       " '__reduce_ex__',\n",
       " '__repr__',\n",
       " '__rsub__',\n",
       " '__setattr__',\n",
       " '__sizeof__',\n",
       " '__str__',\n",
       " '__sub__',\n",
       " '__subclasshook__',\n",
       " 'ctime',\n",
       " 'day',\n",
       " 'fromisocalendar',\n",
       " 'fromisoformat',\n",
       " 'fromordinal',\n",
       " 'fromtimestamp',\n",
       " 'isocalendar',\n",
       " 'isoformat',\n",
       " 'isoweekday',\n",
       " 'max',\n",
       " 'min',\n",
       " 'month',\n",
       " 'replace',\n",
       " 'resolution',\n",
       " 'strftime',\n",
       " 'timetuple',\n",
       " 'today',\n",
       " 'toordinal',\n",
       " 'weekday',\n",
       " 'year']"
      ]
     },
     "execution_count": 235,
     "metadata": {},
     "output_type": "execute_result"
    }
   ],
   "source": [
    "dir(datetime.date)"
   ]
  },
  {
   "cell_type": "code",
   "execution_count": 236,
   "id": "01b74cb1",
   "metadata": {
    "collapsed": true
   },
   "outputs": [
    {
     "data": {
      "text/plain": [
       "['__abs__',\n",
       " '__add__',\n",
       " '__bool__',\n",
       " '__class__',\n",
       " '__delattr__',\n",
       " '__dir__',\n",
       " '__divmod__',\n",
       " '__doc__',\n",
       " '__eq__',\n",
       " '__floordiv__',\n",
       " '__format__',\n",
       " '__ge__',\n",
       " '__getattribute__',\n",
       " '__gt__',\n",
       " '__hash__',\n",
       " '__init__',\n",
       " '__init_subclass__',\n",
       " '__le__',\n",
       " '__lt__',\n",
       " '__mod__',\n",
       " '__mul__',\n",
       " '__ne__',\n",
       " '__neg__',\n",
       " '__new__',\n",
       " '__pos__',\n",
       " '__radd__',\n",
       " '__rdivmod__',\n",
       " '__reduce__',\n",
       " '__reduce_ex__',\n",
       " '__repr__',\n",
       " '__rfloordiv__',\n",
       " '__rmod__',\n",
       " '__rmul__',\n",
       " '__rsub__',\n",
       " '__rtruediv__',\n",
       " '__setattr__',\n",
       " '__sizeof__',\n",
       " '__str__',\n",
       " '__sub__',\n",
       " '__subclasshook__',\n",
       " '__truediv__',\n",
       " 'days',\n",
       " 'max',\n",
       " 'microseconds',\n",
       " 'min',\n",
       " 'resolution',\n",
       " 'seconds',\n",
       " 'total_seconds']"
      ]
     },
     "execution_count": 236,
     "metadata": {},
     "output_type": "execute_result"
    }
   ],
   "source": [
    "dir(datetime.timedelta)"
   ]
  },
  {
   "cell_type": "code",
   "execution_count": 246,
   "id": "fb9e7305",
   "metadata": {
    "collapsed": true
   },
   "outputs": [
    {
     "name": "stdout",
     "output_type": "stream",
     "text": [
      "dict_values(['Afghanistan', 'Kabul'])\n",
      "dict_values(['Albania', 'Tirana'])\n",
      "dict_values(['Algeria', 'Alger'])\n",
      "dict_values(['American Samoa', 'Fagatogo'])\n",
      "dict_values(['Andorra', 'Andorra la Vella'])\n",
      "dict_values(['Angola', 'Luanda'])\n",
      "dict_values(['Anguilla', 'The Valley'])\n",
      "dict_values(['Antarctica', None])\n",
      "dict_values(['Antigua and Barbuda', \"Saint John's\"])\n",
      "dict_values(['Argentina', 'Buenos Aires'])\n",
      "dict_values(['Armenia', 'Yerevan'])\n",
      "dict_values(['Aruba', 'Oranjestad'])\n",
      "dict_values(['Australia', 'Canberra'])\n",
      "dict_values(['Austria', 'Wien'])\n",
      "dict_values(['Azerbaijan', 'Baku'])\n",
      "dict_values(['Bahamas', 'Nassau'])\n",
      "dict_values(['Bahrain', 'al-Manama'])\n",
      "dict_values(['Bangladesh', 'Dhaka'])\n",
      "dict_values(['Barbados', 'Bridgetown'])\n",
      "dict_values(['Belarus', 'Minsk'])\n",
      "dict_values(['Belgium', 'Bruxelles [Brussel]'])\n",
      "dict_values(['Belize', 'Belmopan'])\n",
      "dict_values(['Benin', 'Porto-Novo'])\n",
      "dict_values(['Bermuda', 'Hamilton'])\n",
      "dict_values(['Bhutan', 'Thimphu'])\n",
      "dict_values(['Bolivia', 'La Paz'])\n",
      "dict_values(['Bosnia and Herzegovina', 'Sarajevo'])\n",
      "dict_values(['Botswana', 'Gaborone'])\n",
      "dict_values(['Bouvet Island', None])\n",
      "dict_values(['Brazil', 'Brasília'])\n",
      "dict_values(['British Indian Ocean Territory', None])\n",
      "dict_values(['Brunei', 'Bandar Seri Begawan'])\n",
      "dict_values(['Bulgaria', 'Sofia'])\n",
      "dict_values(['Burkina Faso', 'Ouagadougou'])\n",
      "dict_values(['Burundi', 'Bujumbura'])\n",
      "dict_values(['Cambodia', 'Phnom Penh'])\n",
      "dict_values(['Cameroon', 'Yaound'])\n",
      "dict_values(['Canada', 'Ottawa'])\n",
      "dict_values(['Cape Verde', 'Praia'])\n",
      "dict_values(['Cayman Islands', 'George Town'])\n",
      "dict_values(['Central African Republic', 'Bangui'])\n",
      "dict_values(['Chad', \"N'Djam\"])\n",
      "dict_values(['Chile', 'Santiago de Chile'])\n",
      "dict_values(['China', 'Peking'])\n",
      "dict_values(['Christmas Island', 'Flying Fish Cove'])\n",
      "dict_values(['Cocos (Keeling) Islands', 'West Island'])\n",
      "dict_values(['Colombia', 'Santaf'])\n",
      "dict_values(['Comoros', 'Moroni'])\n",
      "dict_values(['Congo', 'Brazzaville'])\n",
      "dict_values(['Cook Islands', 'Avarua'])\n",
      "dict_values(['Costa Rica', 'San José'])\n",
      "dict_values(['Croatia', 'Zagreb'])\n",
      "dict_values(['Cuba', 'La Habana'])\n",
      "dict_values(['Cyprus', 'Nicosia'])\n",
      "dict_values(['Czech Republic', 'Praha'])\n",
      "dict_values(['Denmark', 'Copenhagen'])\n",
      "dict_values(['Djibouti', 'Djibouti'])\n",
      "dict_values(['Dominica', 'Roseau'])\n",
      "dict_values(['Dominican Republic', 'Santo Domingo de Guzm'])\n",
      "dict_values(['East Timor', 'Dili'])\n",
      "dict_values(['Ecuador', 'Quito'])\n",
      "dict_values(['Egypt', 'Cairo'])\n",
      "dict_values(['El Salvador', 'San Salvador'])\n",
      "dict_values(['England', 'London'])\n",
      "dict_values(['Equatorial Guinea', 'Malabo'])\n",
      "dict_values(['Eritrea', 'Asmara'])\n",
      "dict_values(['Estonia', 'Tallinn'])\n",
      "dict_values(['Ethiopia', 'Addis Abeba'])\n",
      "dict_values(['Falkland Islands', 'Stanley'])\n",
      "dict_values(['Faroe Islands', 'Tórshavn'])\n",
      "dict_values(['Fiji Islands', 'Suva'])\n",
      "dict_values(['Finland', 'Helsinki [Helsingfors]'])\n",
      "dict_values(['France', 'Paris'])\n",
      "dict_values(['French Guiana', 'Cayenne'])\n",
      "dict_values(['French Polynesia', 'Papeete'])\n",
      "dict_values(['French Southern territories', None])\n",
      "dict_values(['Gabon', 'Libreville'])\n",
      "dict_values(['Gambia', 'Banjul'])\n",
      "dict_values(['Georgia', 'Tbilisi'])\n",
      "dict_values(['Germany', 'Berlin'])\n",
      "dict_values(['Ghana', 'Accra'])\n",
      "dict_values(['Gibraltar', 'Gibraltar'])\n",
      "dict_values(['Greece', 'Athenai'])\n",
      "dict_values(['Greenland', 'Nuuk'])\n",
      "dict_values(['Grenada', \"Saint George's\"])\n",
      "dict_values(['Guadeloupe', 'Basse-Terre'])\n",
      "dict_values(['Guam', 'Aga'])\n",
      "dict_values(['Guatemala', 'Ciudad de Guatemala'])\n",
      "dict_values(['Guinea', 'Conakry'])\n",
      "dict_values(['Guinea-Bissau', 'Bissau'])\n",
      "dict_values(['Guyana', 'Georgetown'])\n",
      "dict_values(['Haiti', 'Port-au-Prince'])\n",
      "dict_values(['Heard Island and McDonald Islands', None])\n",
      "dict_values(['Holy See (Vatican City State)', 'Citt'])\n",
      "dict_values(['Honduras', 'Tegucigalpa'])\n",
      "dict_values(['Hong Kong', 'Victoria'])\n",
      "dict_values(['Hungary', 'Budapest'])\n",
      "dict_values(['Iceland', 'Reykjavík'])\n",
      "dict_values(['India', 'New Delhi'])\n",
      "dict_values(['Indonesia', 'Jakarta'])\n",
      "dict_values(['Iran', 'Tehran'])\n",
      "dict_values(['Iraq', 'Baghdad'])\n",
      "dict_values(['Ireland', 'Dublin'])\n",
      "dict_values(['Israel', 'Jerusalem'])\n",
      "dict_values(['Italy', 'Roma'])\n",
      "dict_values(['Ivory Coast', 'Yamoussoukro'])\n",
      "dict_values(['Jamaica', 'Kingston'])\n",
      "dict_values(['Japan', 'Tokyo'])\n",
      "dict_values(['Jordan', 'Amman'])\n",
      "dict_values(['Kazakhstan', 'Astana'])\n",
      "dict_values(['Kenya', 'Nairobi'])\n",
      "dict_values(['Kiribati', 'Bairiki'])\n",
      "dict_values(['Kuwait', 'Kuwait'])\n",
      "dict_values(['Kyrgyzstan', 'Bishkek'])\n",
      "dict_values(['Laos', 'Vientiane'])\n",
      "dict_values(['Latvia', 'Riga'])\n",
      "dict_values(['Lebanon', 'Beirut'])\n",
      "dict_values(['Lesotho', 'Maseru'])\n",
      "dict_values(['Liberia', 'Monrovia'])\n",
      "dict_values(['Libyan Arab Jamahiriya', 'Tripoli'])\n",
      "dict_values(['Liechtenstein', 'Vaduz'])\n",
      "dict_values(['Lithuania', 'Vilnius'])\n",
      "dict_values(['Luxembourg', 'Luxembourg [Luxemburg/L'])\n",
      "dict_values(['Macao', 'Macao'])\n",
      "dict_values(['North Macedonia', 'Skopje'])\n",
      "dict_values(['Madagascar', 'Antananarivo'])\n",
      "dict_values(['Malawi', 'Lilongwe'])\n",
      "dict_values(['Malaysia', 'Kuala Lumpur'])\n",
      "dict_values(['Maldives', 'Male'])\n",
      "dict_values(['Mali', 'Bamako'])\n",
      "dict_values(['Malta', 'Valletta'])\n",
      "dict_values(['Marshall Islands', 'Dalap-Uliga-Darrit'])\n",
      "dict_values(['Martinique', 'Fort-de-France'])\n",
      "dict_values(['Mauritania', 'Nouakchott'])\n",
      "dict_values(['Mauritius', 'Port-Louis'])\n",
      "dict_values(['Mayotte', 'Mamoutzou'])\n",
      "dict_values(['Mexico', 'Ciudad de M'])\n",
      "dict_values(['Micronesia, Federated States of', 'Palikir'])\n",
      "dict_values(['Moldova', 'Chisinau'])\n",
      "dict_values(['Monaco', 'Monaco-Ville'])\n",
      "dict_values(['Mongolia', 'Ulan Bator'])\n",
      "dict_values(['Montenegro', 'Podgorica'])\n",
      "dict_values(['Montserrat', 'Plymouth'])\n",
      "dict_values(['Morocco', 'Rabat'])\n",
      "dict_values(['Mozambique', 'Maputo'])\n",
      "dict_values(['Myanmar', 'Rangoon (Yangon)'])\n",
      "dict_values(['Namibia', 'Windhoek'])\n",
      "dict_values(['Nauru', 'Yaren'])\n",
      "dict_values(['Nepal', 'Kathmandu'])\n",
      "dict_values(['Netherlands', 'Amsterdam'])\n",
      "dict_values(['Netherlands Antilles', 'Willemstad'])\n",
      "dict_values(['New Caledonia', 'Noum'])\n",
      "dict_values(['New Zealand', 'Wellington'])\n",
      "dict_values(['Nicaragua', 'Managua'])\n",
      "dict_values(['Niger', 'Niamey'])\n",
      "dict_values(['Nigeria', 'Abuja'])\n",
      "dict_values(['Niue', 'Alofi'])\n",
      "dict_values(['Norfolk Island', 'Kingston'])\n",
      "dict_values(['North Korea', 'Pyongyang'])\n",
      "dict_values(['Northern Ireland', 'Belfast'])\n",
      "dict_values(['Northern Mariana Islands', 'Garapan'])\n",
      "dict_values(['Norway', 'Oslo'])\n",
      "dict_values(['Oman', 'Masqat'])\n",
      "dict_values(['Pakistan', 'Islamabad'])\n",
      "dict_values(['Palau', 'Koror'])\n",
      "dict_values(['Palestine', 'Gaza'])\n",
      "dict_values(['Panama', 'Ciudad de Panamá'])\n",
      "dict_values(['Papua New Guinea', 'Port Moresby'])\n",
      "dict_values(['Paraguay', 'Asunción'])\n",
      "dict_values(['Peru', 'Lima'])\n",
      "dict_values(['Philippines', 'Manila'])\n",
      "dict_values(['Pitcairn', 'Adamstown'])\n",
      "dict_values(['Poland', 'Warszawa'])\n",
      "dict_values(['Portugal', 'Lisboa'])\n",
      "dict_values(['Puerto Rico', 'San Juan'])\n",
      "dict_values(['Qatar', 'Doha'])\n",
      "dict_values(['Reunion', 'Saint-Denis'])\n",
      "dict_values(['Romania', 'Bucuresti'])\n",
      "dict_values(['Russian Federation', 'Moscow'])\n",
      "dict_values(['Rwanda', 'Kigali'])\n",
      "dict_values(['Saint Helena', 'Jamestown'])\n",
      "dict_values(['Saint Kitts and Nevis', 'Basseterre'])\n",
      "dict_values(['Saint Lucia', 'Castries'])\n",
      "dict_values(['Saint Pierre and Miquelon', 'Saint-Pierre'])\n",
      "dict_values(['Saint Vincent and the Grenadines', 'Kingstown'])\n",
      "dict_values(['Samoa', 'Apia'])\n",
      "dict_values(['San Marino', 'San Marino'])\n",
      "dict_values(['Sao Tome and Principe', 'São Tomé'])\n",
      "dict_values(['Saudi Arabia', 'Riyadh'])\n",
      "dict_values(['Scotland', 'Edinburgh'])\n",
      "dict_values(['Senegal', 'Dakar'])\n",
      "dict_values(['Serbia', 'Belgrade'])\n",
      "dict_values(['Seychelles', 'Victoria'])\n",
      "dict_values(['Sierra Leone', 'Freetown'])\n",
      "dict_values(['Singapore', 'Singapore'])\n",
      "dict_values(['Slovakia', 'Bratislava'])\n",
      "dict_values(['Slovenia', 'Ljubljana'])\n",
      "dict_values(['Solomon Islands', 'Honiara'])\n",
      "dict_values(['Somalia', 'Mogadishu'])\n",
      "dict_values(['South Africa', 'Pretoria'])\n",
      "dict_values(['South Georgia and the South Sandwich Islands', None])\n",
      "dict_values(['South Korea', 'Seoul'])\n",
      "dict_values(['South Sudan', 'Juba'])\n",
      "dict_values(['Spain', 'Madrid'])\n",
      "dict_values(['Sri Lanka', 'Colombo, Sri Jayawardenepura Kotte'])\n",
      "dict_values(['Sudan', 'Khartum'])\n",
      "dict_values(['Suriname', 'Paramaribo'])\n",
      "dict_values(['Svalbard and Jan Mayen', 'Longyearbyen'])\n",
      "dict_values(['Swaziland', 'Mbabane'])\n",
      "dict_values(['Sweden', 'Stockholm'])\n",
      "dict_values(['Switzerland', 'Bern'])\n",
      "dict_values(['Syria', 'Damascus'])\n",
      "dict_values(['Tajikistan', 'Dushanbe'])\n",
      "dict_values(['Tanzania', 'Dodoma'])\n",
      "dict_values(['Thailand', 'Bangkok'])\n",
      "dict_values(['The Democratic Republic of Congo', 'Kinshasa'])\n",
      "dict_values(['Togo', 'Lomé'])\n",
      "dict_values(['Tokelau', 'Fakaofo'])\n",
      "dict_values(['Tonga', \"Nuku'alofa\"])\n",
      "dict_values(['Trinidad and Tobago', 'Port-of-Spain'])\n",
      "dict_values(['Tunisia', 'Tunis'])\n",
      "dict_values(['Turkey', 'Ankara'])\n",
      "dict_values(['Turkmenistan', 'Ashgabat'])\n",
      "dict_values(['Turks and Caicos Islands', 'Cockburn Town'])\n",
      "dict_values(['Tuvalu', 'Funafuti'])\n",
      "dict_values(['Uganda', 'Kampala'])\n",
      "dict_values(['Ukraine', 'Kyiv'])\n",
      "dict_values(['United Arab Emirates', 'Abu Dhabi'])\n",
      "dict_values(['United Kingdom', 'London'])\n",
      "dict_values(['United States', 'Washington'])\n",
      "dict_values(['United States Minor Outlying Islands', None])\n",
      "dict_values(['Uruguay', 'Montevideo'])\n",
      "dict_values(['Uzbekistan', 'Toskent'])\n",
      "dict_values(['Vanuatu', 'Port-Vila'])\n",
      "dict_values(['Venezuela', 'Caracas'])\n",
      "dict_values(['Vietnam', 'Hanoi'])\n",
      "dict_values(['Virgin Islands, British', 'Road Town'])\n",
      "dict_values(['Virgin Islands, U.S.', 'Charlotte Amalie'])\n",
      "dict_values(['Wales', 'Cardiff'])\n",
      "dict_values(['Wallis and Futuna', 'Mata-Utu'])\n",
      "dict_values(['Western Sahara', 'El-Aai'])\n",
      "dict_values(['Yemen', 'Sanaa'])\n",
      "dict_values(['Zambia', 'Lusaka'])\n",
      "dict_values(['Zimbabwe', 'Harare'])\n"
     ]
    }
   ],
   "source": [
    "# 28. Given the names of countries - states in a json file, load the file , read the json objects and then print the cities against a country \n",
    "\n",
    "import json\n",
    "\n",
    "f = open('countries.json')\n",
    "data = json.load(f)\n",
    "for country in data:\n",
    "    print(country.values())"
   ]
  },
  {
   "cell_type": "code",
   "execution_count": 279,
   "id": "6ba457f5",
   "metadata": {},
   "outputs": [],
   "source": [
    "# 29. Given the name strings in a file, read all the names and one-hot encod all the names and find the total sum \n",
    "\n",
    "f = open('names','r')\n",
    "x = len(f.readlines())\n",
    "\n",
    "hotencode = {}\n",
    "count = 0\n",
    "for names in f.readlines():\n",
    "    print(names)\n",
    "#     code = [0]*x\n",
    "#     code[count] = 1\n",
    "#     hotencode[names] = code\n",
    "#     count +=1\n",
    "# print(hotencode)\n",
    "f.close()\n",
    "\n",
    "\n",
    "\n"
   ]
  },
  {
   "cell_type": "code",
   "execution_count": 281,
   "id": "f0f5051f",
   "metadata": {},
   "outputs": [
    {
     "name": "stdout",
     "output_type": "stream",
     "text": [
      "3853\n"
     ]
    }
   ],
   "source": [
    "# 30. Given the name strings in a file, read all the names, convert them to corresponding ascii characters and calculate the sum \n",
    "\n",
    "f = open('names', 'r')\n",
    "asc = []\n",
    "for name in f.readlines():\n",
    "    for i in name:\n",
    "        asc.append(ord(i))\n",
    "    \n",
    "print(sum(asc))"
   ]
  },
  {
   "cell_type": "code",
   "execution_count": 290,
   "id": "4e9124a1",
   "metadata": {},
   "outputs": [
    {
     "name": "stdout",
     "output_type": "stream",
     "text": [
      "enter any string : lakshya\n",
      "7848b97cc5adafc761aa006239cc4294\n"
     ]
    }
   ],
   "source": [
    "# 31. Given a user_input as a string, calculate its md5 hash \n",
    "\n",
    "string = input('enter any string : ')\n",
    "\n",
    "import hashlib\n",
    "print(hashlib.md5(string.encode()).hexdigest())"
   ]
  },
  {
   "cell_type": "code",
   "execution_count": 58,
   "id": "7019564c",
   "metadata": {},
   "outputs": [
    {
     "name": "stdout",
     "output_type": "stream",
     "text": [
      "[ 1.  2.  3.  4.  5.  6.  7.  8.  9. 10.  1.  2.  3.  3.  4.  5.  5.  5.]\n"
     ]
    }
   ],
   "source": [
    "# Given numbers ( in string format ) in a file, read them and create a numpy array\n",
    "\n",
    "import numpy as np\n",
    "\n",
    "import os\n",
    "f = open('numbers', 'r')\n",
    "a = np.array([])\n",
    "for lines in f.readlines():\n",
    "    a = np.append(a, int(lines))\n",
    "#     print(int(lines))\n",
    "print(a)"
   ]
  },
  {
   "cell_type": "code",
   "execution_count": 60,
   "id": "cd35e65f",
   "metadata": {
    "collapsed": true
   },
   "outputs": [
    {
     "data": {
      "text/html": [
       "<div>\n",
       "<style scoped>\n",
       "    .dataframe tbody tr th:only-of-type {\n",
       "        vertical-align: middle;\n",
       "    }\n",
       "\n",
       "    .dataframe tbody tr th {\n",
       "        vertical-align: top;\n",
       "    }\n",
       "\n",
       "    .dataframe thead th {\n",
       "        text-align: right;\n",
       "    }\n",
       "</style>\n",
       "<table border=\"1\" class=\"dataframe\">\n",
       "  <thead>\n",
       "    <tr style=\"text-align: right;\">\n",
       "      <th></th>\n",
       "      <th>0</th>\n",
       "    </tr>\n",
       "  </thead>\n",
       "  <tbody>\n",
       "    <tr>\n",
       "      <th>0</th>\n",
       "      <td>1.0</td>\n",
       "    </tr>\n",
       "    <tr>\n",
       "      <th>1</th>\n",
       "      <td>2.0</td>\n",
       "    </tr>\n",
       "    <tr>\n",
       "      <th>2</th>\n",
       "      <td>3.0</td>\n",
       "    </tr>\n",
       "    <tr>\n",
       "      <th>3</th>\n",
       "      <td>4.0</td>\n",
       "    </tr>\n",
       "    <tr>\n",
       "      <th>4</th>\n",
       "      <td>5.0</td>\n",
       "    </tr>\n",
       "    <tr>\n",
       "      <th>5</th>\n",
       "      <td>6.0</td>\n",
       "    </tr>\n",
       "    <tr>\n",
       "      <th>6</th>\n",
       "      <td>7.0</td>\n",
       "    </tr>\n",
       "    <tr>\n",
       "      <th>7</th>\n",
       "      <td>8.0</td>\n",
       "    </tr>\n",
       "    <tr>\n",
       "      <th>8</th>\n",
       "      <td>9.0</td>\n",
       "    </tr>\n",
       "    <tr>\n",
       "      <th>9</th>\n",
       "      <td>10.0</td>\n",
       "    </tr>\n",
       "    <tr>\n",
       "      <th>10</th>\n",
       "      <td>1.0</td>\n",
       "    </tr>\n",
       "    <tr>\n",
       "      <th>11</th>\n",
       "      <td>2.0</td>\n",
       "    </tr>\n",
       "    <tr>\n",
       "      <th>12</th>\n",
       "      <td>3.0</td>\n",
       "    </tr>\n",
       "    <tr>\n",
       "      <th>13</th>\n",
       "      <td>3.0</td>\n",
       "    </tr>\n",
       "    <tr>\n",
       "      <th>14</th>\n",
       "      <td>4.0</td>\n",
       "    </tr>\n",
       "    <tr>\n",
       "      <th>15</th>\n",
       "      <td>5.0</td>\n",
       "    </tr>\n",
       "    <tr>\n",
       "      <th>16</th>\n",
       "      <td>5.0</td>\n",
       "    </tr>\n",
       "    <tr>\n",
       "      <th>17</th>\n",
       "      <td>5.0</td>\n",
       "    </tr>\n",
       "  </tbody>\n",
       "</table>\n",
       "</div>"
      ],
      "text/plain": [
       "       0\n",
       "0    1.0\n",
       "1    2.0\n",
       "2    3.0\n",
       "3    4.0\n",
       "4    5.0\n",
       "5    6.0\n",
       "6    7.0\n",
       "7    8.0\n",
       "8    9.0\n",
       "9   10.0\n",
       "10   1.0\n",
       "11   2.0\n",
       "12   3.0\n",
       "13   3.0\n",
       "14   4.0\n",
       "15   5.0\n",
       "16   5.0\n",
       "17   5.0"
      ]
     },
     "execution_count": 60,
     "metadata": {},
     "output_type": "execute_result"
    }
   ],
   "source": [
    "# Given numbers ( in string format ) in a file, read them and create a pandas data frame object\n",
    "# Given numbers ( in string format ) in a file, read them and create a pandas series\n",
    "\n",
    "import pandas as pd\n",
    "\n",
    "a_s = pd.DataFrame(a)"
   ]
  },
  {
   "cell_type": "code",
   "execution_count": 72,
   "id": "25f08a6b",
   "metadata": {},
   "outputs": [
    {
     "name": "stdout",
     "output_type": "stream",
     "text": [
      "enter 10 numbers, add a space between two numbers: 1 2 34 5 6\n",
      "enter exactly 10 numbers, add a space between two numbers: 1 2 3 4 5 6 7 8 9 0\n",
      "[[1 2 3 4 5]\n",
      " [6 7 8 9 0]]\n"
     ]
    }
   ],
   "source": [
    "# Construct a 2x5 numpy matrix by taking all the numbers as input from user\n",
    "\n",
    "import numpy as np\n",
    "numbers = input('enter 10 numbers, add a space between two numbers: ')\n",
    "if len(numbers) != 10:\n",
    "    numbers = input('enter exactly 10 numbers, add a space between two numbers: ')\n",
    "# a = np.matrix()\n",
    "numbers = numbers.split()\n",
    "if len(numbers) != 10:\n",
    "    numbers = input('enter exactly 10 numbers, add a space between two numbers: ')\n",
    "numbers = numbers.split()\n",
    "list_of_numbers = []\n",
    "for i in numbers:\n",
    "    list_of_numbers.append(int(i))\n",
    "list_of_numbers\n",
    "# array = np.array([list_of_numbers[:5], list_of_numbers[5:]])\n",
    "# print(array)\n",
    "matrix = np.matrix([list_of_numbers[:5], list_of_numbers[5:]])\n",
    "print(matrix)"
   ]
  },
  {
   "cell_type": "code",
   "execution_count": 74,
   "id": "0b8fc181",
   "metadata": {},
   "outputs": [
    {
     "data": {
      "text/html": [
       "<div>\n",
       "<style scoped>\n",
       "    .dataframe tbody tr th:only-of-type {\n",
       "        vertical-align: middle;\n",
       "    }\n",
       "\n",
       "    .dataframe tbody tr th {\n",
       "        vertical-align: top;\n",
       "    }\n",
       "\n",
       "    .dataframe thead th {\n",
       "        text-align: right;\n",
       "    }\n",
       "</style>\n",
       "<table border=\"1\" class=\"dataframe\">\n",
       "  <thead>\n",
       "    <tr style=\"text-align: right;\">\n",
       "      <th></th>\n",
       "      <th>0</th>\n",
       "      <th>1</th>\n",
       "      <th>2</th>\n",
       "      <th>3</th>\n",
       "      <th>4</th>\n",
       "    </tr>\n",
       "  </thead>\n",
       "  <tbody>\n",
       "    <tr>\n",
       "      <th>0</th>\n",
       "      <td>1</td>\n",
       "      <td>2</td>\n",
       "      <td>3</td>\n",
       "      <td>4</td>\n",
       "      <td>5</td>\n",
       "    </tr>\n",
       "    <tr>\n",
       "      <th>1</th>\n",
       "      <td>6</td>\n",
       "      <td>7</td>\n",
       "      <td>8</td>\n",
       "      <td>9</td>\n",
       "      <td>0</td>\n",
       "    </tr>\n",
       "  </tbody>\n",
       "</table>\n",
       "</div>"
      ],
      "text/plain": [
       "   0  1  2  3  4\n",
       "0  1  2  3  4  5\n",
       "1  6  7  8  9  0"
      ]
     },
     "execution_count": 74,
     "metadata": {},
     "output_type": "execute_result"
    }
   ],
   "source": [
    "# Convert the above numpy matrix to a pandas data frame\n",
    "dataframe = pd.DataFrame(matrix)\n",
    "dataframe"
   ]
  },
  {
   "cell_type": "code",
   "execution_count": 78,
   "id": "2965157d",
   "metadata": {},
   "outputs": [],
   "source": [
    "# Save the above data frame as a csv file\n",
    "\n",
    "dataframe.to_csv('numbers.csv')"
   ]
  },
  {
   "cell_type": "code",
   "execution_count": 79,
   "id": "a463b6f0",
   "metadata": {},
   "outputs": [],
   "source": [
    "# Save the above data frame as an excel file\n",
    "\n",
    "dataframe.to_excel('numbers.xlsx')"
   ]
  },
  {
   "cell_type": "code",
   "execution_count": 57,
   "id": "0b7d349c",
   "metadata": {},
   "outputs": [],
   "source": [
    "# Replicate the same data in the excel file across multiple sheets with different names\n",
    "\n"
   ]
  },
  {
   "cell_type": "code",
   "execution_count": 58,
   "id": "0911f2e5",
   "metadata": {
    "collapsed": true
   },
   "outputs": [
    {
     "ename": "NameError",
     "evalue": "name 'pd' is not defined",
     "output_type": "error",
     "traceback": [
      "\u001b[0;31m---------------------------------------------------------------------------\u001b[0m",
      "\u001b[0;31mNameError\u001b[0m                                 Traceback (most recent call last)",
      "Cell \u001b[0;32mIn [58], line 6\u001b[0m\n\u001b[1;32m      1\u001b[0m \u001b[38;5;66;03m# Create an excel sheet in google-sheets, read it via python and print the data on screen.\u001b[39;00m\n\u001b[1;32m      2\u001b[0m \n\u001b[1;32m      3\u001b[0m \n\u001b[1;32m      4\u001b[0m \u001b[38;5;66;03m# https://docs.google.com/spreadsheets/d/1ZgzXt8437BQUJx1wFa5uiC8QgFBH4xRM0lDp1zTH2BY/edit?usp=sharing\u001b[39;00m\n\u001b[0;32m----> 6\u001b[0m data_google \u001b[38;5;241m=\u001b[39m \u001b[43mpd\u001b[49m\u001b[38;5;241m.\u001b[39mread_excel(\u001b[38;5;124m'\u001b[39m\u001b[38;5;124mhttps://docs.google.com/spreadsheets/d/1cu4_oSS2RMpmnFm23qeAqL7pJEb8QRKzDeM9_fMpUzk/edit?usp=sharing\u001b[39m\u001b[38;5;124m'\u001b[39m,engine\u001b[38;5;241m=\u001b[39m\u001b[38;5;124m'\u001b[39m\u001b[38;5;124mopenpyxl\u001b[39m\u001b[38;5;124m'\u001b[39m)\n",
      "\u001b[0;31mNameError\u001b[0m: name 'pd' is not defined"
     ]
    }
   ],
   "source": [
    "# Create an excel sheet in google-sheets, read it via python and print the data on screen.\n",
    "\n",
    "\n",
    "# https://docs.google.com/spreadsheets/d/1ZgzXt8437BQUJx1wFa5uiC8QgFBH4xRM0lDp1zTH2BY/edit?usp=sharing\n",
    "    \n",
    "data_google = pd.read_excel('https://docs.google.com/spreadsheets/d/1cu4_oSS2RMpmnFm23qeAqL7pJEb8QRKzDeM9_fMpUzk/edit?usp=sharing',engine='openpyxl')\n"
   ]
  },
  {
   "cell_type": "markdown",
   "id": "eca6ff3c",
   "metadata": {},
   "source": [
    "41. print a picture using matplotlib. \n",
    "42. Draw sin wave using matplotlib. \n",
    "43. Draw cos wave using matplotlib. \n",
    "44. Draw step function using matplotlib \n",
    "45. Draw fourier series using matplotlib \n",
    "46. Find all the urls in a data in a file  \n",
    "47. Find all the headings in the data in a file \n",
    "48. Read all the files in a directory and print them. \n",
    "49. Find out the parent directory of a directory. \n",
    "50. Find the factorial of a number. "
   ]
  },
  {
   "cell_type": "code",
   "execution_count": 291,
   "id": "2752b81c",
   "metadata": {},
   "outputs": [
    {
     "data": {
      "image/png": "[encoded data removed]",
      "text/plain": [
       "<Figure size 432x288 with 1 Axes>"
      ]
     },
     "metadata": {
      "needs_background": "light"
     },
     "output_type": "display_data"
    }
   ],
   "source": [
    "# print a picture using matplotlib.\n",
    "import matplotlib.pyplot as plt\n",
    "import matplotlib.image as mpimg\n",
    "\n",
    "image = mpimg.imread('image.png')\n",
    "imageplot = plt.imshow(image) \n"
   ]
  },
  {
   "cell_type": "code",
   "execution_count": 292,
   "id": "2469f5be",
   "metadata": {},
   "outputs": [
    {
     "data": {
      "text/plain": [
       "[<matplotlib.lines.Line2D at 0x7fe18a438bb0>]"
      ]
     },
     "execution_count": 292,
     "metadata": {},
     "output_type": "execute_result"
    },
    {
     "data": {
      "image/png": "[encoded data removed]",
      "text/plain": [
       "<Figure size 432x288 with 1 Axes>"
      ]
     },
     "metadata": {
      "needs_background": "light"
     },
     "output_type": "display_data"
    }
   ],
   "source": [
    "# Draw sin wave using matplotlib.\n",
    "import numpy as np\n",
    "theta = np.arange(0, 2*np.pi, 0.1)\n",
    "sine_value = np.sin(theta)\n",
    "plt.plot(theta, sine_value)"
   ]
  },
  {
   "cell_type": "code",
   "execution_count": 293,
   "id": "06e840e7",
   "metadata": {},
   "outputs": [
    {
     "data": {
      "text/plain": [
       "[<matplotlib.lines.Line2D at 0x7fe188f4f280>]"
      ]
     },
     "execution_count": 293,
     "metadata": {},
     "output_type": "execute_result"
    },
    {
     "data": {
      "image/png": "[encoded data removed]",
      "text/plain": [
       "<Figure size 432x288 with 1 Axes>"
      ]
     },
     "metadata": {
      "needs_background": "light"
     },
     "output_type": "display_data"
    }
   ],
   "source": [
    "# Draw cos wave using matplotlib.\n",
    "plt.plot(theta, np.cos(theta))"
   ]
  },
  {
   "cell_type": "code",
   "execution_count": 117,
   "id": "40b99e9b",
   "metadata": {},
   "outputs": [
    {
     "data": {
      "text/plain": [
       "<function matplotlib.pyplot.show(close=None, block=None)>"
      ]
     },
     "execution_count": 117,
     "metadata": {},
     "output_type": "execute_result"
    },
    {
     "data": {
      "image/png": "[encoded data removed]",
      "text/plain": [
       "<Figure size 432x288 with 1 Axes>"
      ]
     },
     "metadata": {
      "needs_background": "light"
     },
     "output_type": "display_data"
    }
   ],
   "source": [
    "# Draw step function using matplotlib\n",
    "x = [1,2,3,4]\n",
    "y = [1,2,3,4]\n",
    "plt.step(x,y)\n",
    "plt.show"
   ]
  },
  {
   "cell_type": "code",
   "execution_count": 119,
   "id": "4b43b36a",
   "metadata": {},
   "outputs": [
    {
     "data": {
      "image/png": "[encoded data removed]",
      "text/plain": [
       "<Figure size 432x288 with 1 Axes>"
      ]
     },
     "metadata": {
      "needs_background": "light"
     },
     "output_type": "display_data"
    }
   ],
   "source": [
    "# Draw fourier series using matplotlib\n",
    "\n",
    "image = mpimg.imread('fourier.png')\n",
    "imageplot = plt.imshow(image) \n"
   ]
  },
  {
   "cell_type": "code",
   "execution_count": 121,
   "id": "f312aba1",
   "metadata": {},
   "outputs": [
    {
     "ename": "SyntaxError",
     "evalue": "invalid syntax (1465917714.py, line 9)",
     "output_type": "error",
     "traceback": [
      "\u001b[0;36m  Input \u001b[0;32mIn [121]\u001b[0;36m\u001b[0m\n\u001b[0;31m    a =\u001b[0m\n\u001b[0m        ^\u001b[0m\n\u001b[0;31mSyntaxError\u001b[0m\u001b[0;31m:\u001b[0m invalid syntax\n"
     ]
    }
   ],
   "source": [
    "import math \n",
    "theta = np.arange(0, 2*np.pi, 0.1)\n",
    "sine_value = np.sin(theta)\n",
    "plt.plot(theta, sine_value)\n",
    "n = input('enter the value of n: ')\n",
    "a0 = input('enter the value of a0: ')\n",
    "fx = [a0/2]\n",
    "for i in range(1,math.inf):\n",
    "    a = \n",
    "    theta = np.range(0, i*n*np.pi, 0.1)\n",
    "\n"
   ]
  },
  {
   "cell_type": "code",
   "execution_count": 124,
   "id": "696e95c9",
   "metadata": {},
   "outputs": [],
   "source": [
    "# Find all the urls in a data in a file\n",
    "# Find all the headings in the data in a file"
   ]
  },
  {
   "cell_type": "code",
   "execution_count": 313,
   "id": "a2d670ea",
   "metadata": {},
   "outputs": [
    {
     "name": "stdout",
     "output_type": "stream",
     "text": [
      "10_08.py\n",
      "10_10.ipynb\n",
      ".ipynb_checkpoints\n"
     ]
    }
   ],
   "source": [
    "# Read all the files in a directory and print them.\n",
    "\n",
    "for file in os.listdir('/Users/lakshyasoni/Documents/Jio Institute/Python Practice/Pandas'):\n",
    "#     f = open(file, 'r')\n",
    "    print(file)"
   ]
  },
  {
   "cell_type": "code",
   "execution_count": null,
   "id": "3ca9b6bd",
   "metadata": {},
   "outputs": [],
   "source": [
    "# Find out the parent directory of a directory.\n",
    "\n",
    "os.path.abspath(path)"
   ]
  },
  {
   "cell_type": "code",
   "execution_count": 242,
   "id": "156931cc",
   "metadata": {},
   "outputs": [
    {
     "name": "stdout",
     "output_type": "stream",
     "text": [
      "enter any number:5\n",
      "1\n",
      "2\n",
      "3\n",
      "4\n"
     ]
    }
   ],
   "source": [
    "x=int(input('enter any number:'))\n",
    "for i in list(range(x)):\n",
    "    if i!=0:\n",
    "        print(i)"
   ]
  },
  {
   "cell_type": "code",
   "execution_count": null,
   "id": "c7333648",
   "metadata": {},
   "outputs": [],
   "source": [
    "# 50. Find the factorial of a number.\n",
    "\n",
    "def factorial(x):\n",
    "    fac_x = 1\n",
    "    for i in range (1,x+1):\n",
    "        fac_x *= i\n",
    "    return fac_x"
   ]
  }
 ],
 "metadata": {
  "kernelspec": {
   "display_name": "Python 3 (ipykernel)",
   "language": "python",
   "name": "python3"
  },
  "language_info": {
   "codemirror_mode": {
    "name": "ipython",
    "version": 3
   },
   "file_extension": ".py",
   "mimetype": "text/x-python",
   "name": "python",
   "nbconvert_exporter": "python",
   "pygments_lexer": "ipython3",
   "version": "3.9.12"
  },
  "vscode": {
   "interpreter": {
    "hash": "31f2aee4e71d21fbe5cf8b01ff0e069b9275f58929596ceb00d14d90e3e16cd6"
   }
  }
 },
 "nbformat": 4,
 "nbformat_minor": 5
}
